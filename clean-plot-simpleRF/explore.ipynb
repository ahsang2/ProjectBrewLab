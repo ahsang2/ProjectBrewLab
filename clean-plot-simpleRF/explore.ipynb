{
 "cells": [
  {
   "cell_type": "code",
   "execution_count": 1,
   "metadata": {},
   "outputs": [],
   "source": [
    "import pandas as pd\n",
    "\n",
    "import numpy as np\n",
    "np.set_printoptions(threshold=np.inf)\n",
    "\n",
    "import plotly.express as px"
   ]
  },
  {
   "cell_type": "markdown",
   "metadata": {},
   "source": [
    "simplify the dataset\n",
    "\n",
    "---"
   ]
  },
  {
   "cell_type": "code",
   "execution_count": 2,
   "metadata": {},
   "outputs": [
    {
     "data": {
      "text/html": [
       "<div>\n",
       "<style scoped>\n",
       "    .dataframe tbody tr th:only-of-type {\n",
       "        vertical-align: middle;\n",
       "    }\n",
       "\n",
       "    .dataframe tbody tr th {\n",
       "        vertical-align: top;\n",
       "    }\n",
       "\n",
       "    .dataframe thead th {\n",
       "        text-align: right;\n",
       "    }\n",
       "</style>\n",
       "<table border=\"1\" class=\"dataframe\">\n",
       "  <thead>\n",
       "    <tr style=\"text-align: right;\">\n",
       "      <th></th>\n",
       "      <th>Date</th>\n",
       "      <th>Time</th>\n",
       "      <th>Item</th>\n",
       "      <th>Qty</th>\n",
       "    </tr>\n",
       "  </thead>\n",
       "  <tbody>\n",
       "    <tr>\n",
       "      <th>0</th>\n",
       "      <td>2023-10-28</td>\n",
       "      <td>11:41:41</td>\n",
       "      <td>Drink 2 - Cold Brew - FM</td>\n",
       "      <td>1.0</td>\n",
       "    </tr>\n",
       "    <tr>\n",
       "      <th>1</th>\n",
       "      <td>2023-10-28</td>\n",
       "      <td>11:40:39</td>\n",
       "      <td>Croissant - Pain Au Chocolat - FM</td>\n",
       "      <td>1.0</td>\n",
       "    </tr>\n",
       "    <tr>\n",
       "      <th>2</th>\n",
       "      <td>2023-10-28</td>\n",
       "      <td>11:40:39</td>\n",
       "      <td>Croissant - Pumpkin Croissant - FM</td>\n",
       "      <td>1.0</td>\n",
       "    </tr>\n",
       "    <tr>\n",
       "      <th>3</th>\n",
       "      <td>2023-10-28</td>\n",
       "      <td>11:34:11</td>\n",
       "      <td>Croissant - Pumpkin Croissant - FM</td>\n",
       "      <td>1.0</td>\n",
       "    </tr>\n",
       "    <tr>\n",
       "      <th>4</th>\n",
       "      <td>2023-10-28</td>\n",
       "      <td>11:33:24</td>\n",
       "      <td>Croissant - Pain Au Chocolat - FM</td>\n",
       "      <td>1.0</td>\n",
       "    </tr>\n",
       "    <tr>\n",
       "      <th>...</th>\n",
       "      <td>...</td>\n",
       "      <td>...</td>\n",
       "      <td>...</td>\n",
       "      <td>...</td>\n",
       "    </tr>\n",
       "    <tr>\n",
       "      <th>11844</th>\n",
       "      <td>2024-05-18</td>\n",
       "      <td>07:14:30</td>\n",
       "      <td>Butter Croissant - FM</td>\n",
       "      <td>1.0</td>\n",
       "    </tr>\n",
       "    <tr>\n",
       "      <th>11845</th>\n",
       "      <td>2024-05-18</td>\n",
       "      <td>07:13:11</td>\n",
       "      <td>Kouign Amann - FM</td>\n",
       "      <td>1.0</td>\n",
       "    </tr>\n",
       "    <tr>\n",
       "      <th>11846</th>\n",
       "      <td>2024-05-18</td>\n",
       "      <td>07:10:47</td>\n",
       "      <td>Almond Croissant - FM</td>\n",
       "      <td>1.0</td>\n",
       "    </tr>\n",
       "    <tr>\n",
       "      <th>11847</th>\n",
       "      <td>2024-05-18</td>\n",
       "      <td>07:10:18</td>\n",
       "      <td>Ube &amp; Strawberry Croissant - FM</td>\n",
       "      <td>1.0</td>\n",
       "    </tr>\n",
       "    <tr>\n",
       "      <th>11848</th>\n",
       "      <td>2024-05-18</td>\n",
       "      <td>07:10:18</td>\n",
       "      <td>Pain Aux Raisin - FM</td>\n",
       "      <td>1.0</td>\n",
       "    </tr>\n",
       "  </tbody>\n",
       "</table>\n",
       "<p>11849 rows × 4 columns</p>\n",
       "</div>"
      ],
      "text/plain": [
       "             Date      Time                                Item  Qty\n",
       "0      2023-10-28  11:41:41            Drink 2 - Cold Brew - FM  1.0\n",
       "1      2023-10-28  11:40:39   Croissant - Pain Au Chocolat - FM  1.0\n",
       "2      2023-10-28  11:40:39  Croissant - Pumpkin Croissant - FM  1.0\n",
       "3      2023-10-28  11:34:11  Croissant - Pumpkin Croissant - FM  1.0\n",
       "4      2023-10-28  11:33:24   Croissant - Pain Au Chocolat - FM  1.0\n",
       "...           ...       ...                                 ...  ...\n",
       "11844  2024-05-18  07:14:30               Butter Croissant - FM  1.0\n",
       "11845  2024-05-18  07:13:11                   Kouign Amann - FM  1.0\n",
       "11846  2024-05-18  07:10:47               Almond Croissant - FM  1.0\n",
       "11847  2024-05-18  07:10:18     Ube & Strawberry Croissant - FM  1.0\n",
       "11848  2024-05-18  07:10:18                Pain Aux Raisin - FM  1.0\n",
       "\n",
       "[11849 rows x 4 columns]"
      ]
     },
     "execution_count": 2,
     "metadata": {},
     "output_type": "execute_result"
    }
   ],
   "source": [
    "sales_dataset = pd.read_csv(\"og_farmers_market_sales_2324.csv\")\n",
    "\n",
    "# Only keep the columns we need\n",
    "columns_of_interest = ['Date', 'Time', 'Item', 'Qty']\n",
    "\n",
    "sales_dataset = sales_dataset[columns_of_interest]\n",
    "\n",
    "sales_dataset"
   ]
  },
  {
   "cell_type": "code",
   "execution_count": 3,
   "metadata": {},
   "outputs": [
    {
     "name": "stdout",
     "output_type": "stream",
     "text": [
      "Before:\n",
      "Date     object\n",
      "Time     object\n",
      "Item     object\n",
      "Qty     float64\n",
      "dtype: object\n",
      "\n",
      "After:\n",
      "Date                object\n",
      "Time                object\n",
      "Item                object\n",
      "Qty                float64\n",
      "Datetime    datetime64[ns]\n",
      "dtype: object\n"
     ]
    }
   ],
   "source": [
    "print(\"Before:\")\n",
    "print(sales_dataset.dtypes)\n",
    "\n",
    "# Merge 'Date' and 'Time' into a single datetime column\n",
    "sales_dataset[\"Datetime\"] = pd.to_datetime(sales_dataset[\"Date\"] + \" \" + sales_dataset[\"Time\"])\n",
    "\n",
    "# Drop old 'Date' and 'Time' columns\n",
    "#sales_dataset.drop(columns=[\"Date\", \"Time\"], inplace=True)\n",
    "\n",
    "# Extract the month and year for aggregation\n",
    "#sales_dataset[\"Week\"] = sales_dataset[\"Datetime\"].dt.to_period(\"W\")\n",
    "#sales_dataset[\"Week_TimeStamp\"] = sales_dataset[\"Week\"].dt.to_timestamp() # Different way to represent the week for plotting\n",
    "\n",
    "print(\"\\nAfter:\")\n",
    "print(sales_dataset.dtypes)"
   ]
  },
  {
   "cell_type": "code",
   "execution_count": 11,
   "metadata": {},
   "outputs": [
    {
     "data": {
      "text/html": [
       "<div>\n",
       "<style scoped>\n",
       "    .dataframe tbody tr th:only-of-type {\n",
       "        vertical-align: middle;\n",
       "    }\n",
       "\n",
       "    .dataframe tbody tr th {\n",
       "        vertical-align: top;\n",
       "    }\n",
       "\n",
       "    .dataframe thead th {\n",
       "        text-align: right;\n",
       "    }\n",
       "</style>\n",
       "<table border=\"1\" class=\"dataframe\">\n",
       "  <thead>\n",
       "    <tr style=\"text-align: right;\">\n",
       "      <th></th>\n",
       "      <th>Date</th>\n",
       "      <th>Qty</th>\n",
       "    </tr>\n",
       "  </thead>\n",
       "  <tbody>\n",
       "    <tr>\n",
       "      <th>0</th>\n",
       "      <td>2023-05-20</td>\n",
       "      <td>403</td>\n",
       "    </tr>\n",
       "    <tr>\n",
       "      <th>1</th>\n",
       "      <td>2023-05-27</td>\n",
       "      <td>484</td>\n",
       "    </tr>\n",
       "    <tr>\n",
       "      <th>2</th>\n",
       "      <td>2023-06-03</td>\n",
       "      <td>453</td>\n",
       "    </tr>\n",
       "    <tr>\n",
       "      <th>3</th>\n",
       "      <td>2023-06-10</td>\n",
       "      <td>428</td>\n",
       "    </tr>\n",
       "    <tr>\n",
       "      <th>4</th>\n",
       "      <td>2023-06-17</td>\n",
       "      <td>485</td>\n",
       "    </tr>\n",
       "    <tr>\n",
       "      <th>5</th>\n",
       "      <td>2023-06-20</td>\n",
       "      <td>2</td>\n",
       "    </tr>\n",
       "    <tr>\n",
       "      <th>6</th>\n",
       "      <td>2023-06-24</td>\n",
       "      <td>487</td>\n",
       "    </tr>\n",
       "    <tr>\n",
       "      <th>7</th>\n",
       "      <td>2023-07-15</td>\n",
       "      <td>400</td>\n",
       "    </tr>\n",
       "    <tr>\n",
       "      <th>8</th>\n",
       "      <td>2023-07-22</td>\n",
       "      <td>404</td>\n",
       "    </tr>\n",
       "    <tr>\n",
       "      <th>9</th>\n",
       "      <td>2023-07-29</td>\n",
       "      <td>373</td>\n",
       "    </tr>\n",
       "    <tr>\n",
       "      <th>10</th>\n",
       "      <td>2023-08-05</td>\n",
       "      <td>292</td>\n",
       "    </tr>\n",
       "    <tr>\n",
       "      <th>11</th>\n",
       "      <td>2023-09-09</td>\n",
       "      <td>371</td>\n",
       "    </tr>\n",
       "    <tr>\n",
       "      <th>12</th>\n",
       "      <td>2023-09-16</td>\n",
       "      <td>386</td>\n",
       "    </tr>\n",
       "    <tr>\n",
       "      <th>13</th>\n",
       "      <td>2023-09-23</td>\n",
       "      <td>377</td>\n",
       "    </tr>\n",
       "    <tr>\n",
       "      <th>14</th>\n",
       "      <td>2023-09-30</td>\n",
       "      <td>389</td>\n",
       "    </tr>\n",
       "    <tr>\n",
       "      <th>15</th>\n",
       "      <td>2023-10-07</td>\n",
       "      <td>324</td>\n",
       "    </tr>\n",
       "    <tr>\n",
       "      <th>16</th>\n",
       "      <td>2023-10-21</td>\n",
       "      <td>153</td>\n",
       "    </tr>\n",
       "    <tr>\n",
       "      <th>17</th>\n",
       "      <td>2023-10-28</td>\n",
       "      <td>262</td>\n",
       "    </tr>\n",
       "    <tr>\n",
       "      <th>18</th>\n",
       "      <td>2024-05-18</td>\n",
       "      <td>412</td>\n",
       "    </tr>\n",
       "    <tr>\n",
       "      <th>19</th>\n",
       "      <td>2024-05-25</td>\n",
       "      <td>425</td>\n",
       "    </tr>\n",
       "    <tr>\n",
       "      <th>20</th>\n",
       "      <td>2024-06-08</td>\n",
       "      <td>368</td>\n",
       "    </tr>\n",
       "    <tr>\n",
       "      <th>21</th>\n",
       "      <td>2024-06-15</td>\n",
       "      <td>361</td>\n",
       "    </tr>\n",
       "    <tr>\n",
       "      <th>22</th>\n",
       "      <td>2024-06-22</td>\n",
       "      <td>388</td>\n",
       "    </tr>\n",
       "    <tr>\n",
       "      <th>23</th>\n",
       "      <td>2024-06-29</td>\n",
       "      <td>339</td>\n",
       "    </tr>\n",
       "    <tr>\n",
       "      <th>24</th>\n",
       "      <td>2024-07-06</td>\n",
       "      <td>381</td>\n",
       "    </tr>\n",
       "    <tr>\n",
       "      <th>25</th>\n",
       "      <td>2024-07-13</td>\n",
       "      <td>359</td>\n",
       "    </tr>\n",
       "    <tr>\n",
       "      <th>26</th>\n",
       "      <td>2024-07-20</td>\n",
       "      <td>369</td>\n",
       "    </tr>\n",
       "    <tr>\n",
       "      <th>27</th>\n",
       "      <td>2024-07-27</td>\n",
       "      <td>380</td>\n",
       "    </tr>\n",
       "    <tr>\n",
       "      <th>28</th>\n",
       "      <td>2024-08-03</td>\n",
       "      <td>346</td>\n",
       "    </tr>\n",
       "    <tr>\n",
       "      <th>29</th>\n",
       "      <td>2024-08-10</td>\n",
       "      <td>362</td>\n",
       "    </tr>\n",
       "    <tr>\n",
       "      <th>30</th>\n",
       "      <td>2024-08-24</td>\n",
       "      <td>350</td>\n",
       "    </tr>\n",
       "    <tr>\n",
       "      <th>31</th>\n",
       "      <td>2024-08-31</td>\n",
       "      <td>353</td>\n",
       "    </tr>\n",
       "    <tr>\n",
       "      <th>32</th>\n",
       "      <td>2024-09-07</td>\n",
       "      <td>322</td>\n",
       "    </tr>\n",
       "    <tr>\n",
       "      <th>33</th>\n",
       "      <td>2024-09-14</td>\n",
       "      <td>264</td>\n",
       "    </tr>\n",
       "    <tr>\n",
       "      <th>34</th>\n",
       "      <td>2024-09-21</td>\n",
       "      <td>227</td>\n",
       "    </tr>\n",
       "    <tr>\n",
       "      <th>35</th>\n",
       "      <td>2024-10-05</td>\n",
       "      <td>240</td>\n",
       "    </tr>\n",
       "    <tr>\n",
       "      <th>36</th>\n",
       "      <td>2024-10-12</td>\n",
       "      <td>251</td>\n",
       "    </tr>\n",
       "    <tr>\n",
       "      <th>37</th>\n",
       "      <td>2024-10-19</td>\n",
       "      <td>232</td>\n",
       "    </tr>\n",
       "    <tr>\n",
       "      <th>38</th>\n",
       "      <td>2024-10-26</td>\n",
       "      <td>232</td>\n",
       "    </tr>\n",
       "  </tbody>\n",
       "</table>\n",
       "</div>"
      ],
      "text/plain": [
       "          Date  Qty\n",
       "0   2023-05-20  403\n",
       "1   2023-05-27  484\n",
       "2   2023-06-03  453\n",
       "3   2023-06-10  428\n",
       "4   2023-06-17  485\n",
       "5   2023-06-20    2\n",
       "6   2023-06-24  487\n",
       "7   2023-07-15  400\n",
       "8   2023-07-22  404\n",
       "9   2023-07-29  373\n",
       "10  2023-08-05  292\n",
       "11  2023-09-09  371\n",
       "12  2023-09-16  386\n",
       "13  2023-09-23  377\n",
       "14  2023-09-30  389\n",
       "15  2023-10-07  324\n",
       "16  2023-10-21  153\n",
       "17  2023-10-28  262\n",
       "18  2024-05-18  412\n",
       "19  2024-05-25  425\n",
       "20  2024-06-08  368\n",
       "21  2024-06-15  361\n",
       "22  2024-06-22  388\n",
       "23  2024-06-29  339\n",
       "24  2024-07-06  381\n",
       "25  2024-07-13  359\n",
       "26  2024-07-20  369\n",
       "27  2024-07-27  380\n",
       "28  2024-08-03  346\n",
       "29  2024-08-10  362\n",
       "30  2024-08-24  350\n",
       "31  2024-08-31  353\n",
       "32  2024-09-07  322\n",
       "33  2024-09-14  264\n",
       "34  2024-09-21  227\n",
       "35  2024-10-05  240\n",
       "36  2024-10-12  251\n",
       "37  2024-10-19  232\n",
       "38  2024-10-26  232"
      ]
     },
     "execution_count": 11,
     "metadata": {},
     "output_type": "execute_result"
    }
   ],
   "source": [
    "daily_sales_amounts = sales_dataset.groupby(\"Date\")['Qty'].sum().astype(int)\n",
    "\n",
    "daily_sales_amounts = daily_sales_amounts.reset_index() # Makes Hour into a Column instead of just an Index, which makes plotting easier\n",
    "daily_sales_amounts"
   ]
  },
  {
   "cell_type": "code",
   "execution_count": 13,
   "metadata": {},
   "outputs": [
    {
     "data": {
      "application/vnd.plotly.v1+json": {
       "config": {
        "plotlyServerURL": "https://plot.ly"
       },
       "data": [
        {
         "hovertemplate": "Date=%{x}<br>Qty=%{y}<extra></extra>",
         "legendgroup": "",
         "line": {
          "color": "#636efa",
          "dash": "solid"
         },
         "marker": {
          "symbol": "circle"
         },
         "mode": "lines+markers",
         "name": "",
         "orientation": "v",
         "showlegend": false,
         "type": "scatter",
         "x": [
          "2023-05-20",
          "2023-05-27",
          "2023-06-03",
          "2023-06-10",
          "2023-06-17",
          "2023-06-20",
          "2023-06-24",
          "2023-07-15",
          "2023-07-22",
          "2023-07-29",
          "2023-08-05",
          "2023-09-09",
          "2023-09-16",
          "2023-09-23",
          "2023-09-30",
          "2023-10-07",
          "2023-10-21",
          "2023-10-28",
          "2024-05-18",
          "2024-05-25",
          "2024-06-08",
          "2024-06-15",
          "2024-06-22",
          "2024-06-29",
          "2024-07-06",
          "2024-07-13",
          "2024-07-20",
          "2024-07-27",
          "2024-08-03",
          "2024-08-10",
          "2024-08-24",
          "2024-08-31",
          "2024-09-07",
          "2024-09-14",
          "2024-09-21",
          "2024-10-05",
          "2024-10-12",
          "2024-10-19",
          "2024-10-26"
         ],
         "xaxis": "x",
         "y": [
          403,
          484,
          453,
          428,
          485,
          2,
          487,
          400,
          404,
          373,
          292,
          371,
          386,
          377,
          389,
          324,
          153,
          262,
          412,
          425,
          368,
          361,
          388,
          339,
          381,
          359,
          369,
          380,
          346,
          362,
          350,
          353,
          322,
          264,
          227,
          240,
          251,
          232,
          232
         ],
         "yaxis": "y"
        }
       ],
       "layout": {
        "legend": {
         "tracegroupgap": 0
        },
        "template": {
         "data": {
          "bar": [
           {
            "error_x": {
             "color": "#2a3f5f"
            },
            "error_y": {
             "color": "#2a3f5f"
            },
            "marker": {
             "line": {
              "color": "#E5ECF6",
              "width": 0.5
             },
             "pattern": {
              "fillmode": "overlay",
              "size": 10,
              "solidity": 0.2
             }
            },
            "type": "bar"
           }
          ],
          "barpolar": [
           {
            "marker": {
             "line": {
              "color": "#E5ECF6",
              "width": 0.5
             },
             "pattern": {
              "fillmode": "overlay",
              "size": 10,
              "solidity": 0.2
             }
            },
            "type": "barpolar"
           }
          ],
          "carpet": [
           {
            "aaxis": {
             "endlinecolor": "#2a3f5f",
             "gridcolor": "white",
             "linecolor": "white",
             "minorgridcolor": "white",
             "startlinecolor": "#2a3f5f"
            },
            "baxis": {
             "endlinecolor": "#2a3f5f",
             "gridcolor": "white",
             "linecolor": "white",
             "minorgridcolor": "white",
             "startlinecolor": "#2a3f5f"
            },
            "type": "carpet"
           }
          ],
          "choropleth": [
           {
            "colorbar": {
             "outlinewidth": 0,
             "ticks": ""
            },
            "type": "choropleth"
           }
          ],
          "contour": [
           {
            "colorbar": {
             "outlinewidth": 0,
             "ticks": ""
            },
            "colorscale": [
             [
              0,
              "#0d0887"
             ],
             [
              0.1111111111111111,
              "#46039f"
             ],
             [
              0.2222222222222222,
              "#7201a8"
             ],
             [
              0.3333333333333333,
              "#9c179e"
             ],
             [
              0.4444444444444444,
              "#bd3786"
             ],
             [
              0.5555555555555556,
              "#d8576b"
             ],
             [
              0.6666666666666666,
              "#ed7953"
             ],
             [
              0.7777777777777778,
              "#fb9f3a"
             ],
             [
              0.8888888888888888,
              "#fdca26"
             ],
             [
              1,
              "#f0f921"
             ]
            ],
            "type": "contour"
           }
          ],
          "contourcarpet": [
           {
            "colorbar": {
             "outlinewidth": 0,
             "ticks": ""
            },
            "type": "contourcarpet"
           }
          ],
          "heatmap": [
           {
            "colorbar": {
             "outlinewidth": 0,
             "ticks": ""
            },
            "colorscale": [
             [
              0,
              "#0d0887"
             ],
             [
              0.1111111111111111,
              "#46039f"
             ],
             [
              0.2222222222222222,
              "#7201a8"
             ],
             [
              0.3333333333333333,
              "#9c179e"
             ],
             [
              0.4444444444444444,
              "#bd3786"
             ],
             [
              0.5555555555555556,
              "#d8576b"
             ],
             [
              0.6666666666666666,
              "#ed7953"
             ],
             [
              0.7777777777777778,
              "#fb9f3a"
             ],
             [
              0.8888888888888888,
              "#fdca26"
             ],
             [
              1,
              "#f0f921"
             ]
            ],
            "type": "heatmap"
           }
          ],
          "heatmapgl": [
           {
            "colorbar": {
             "outlinewidth": 0,
             "ticks": ""
            },
            "colorscale": [
             [
              0,
              "#0d0887"
             ],
             [
              0.1111111111111111,
              "#46039f"
             ],
             [
              0.2222222222222222,
              "#7201a8"
             ],
             [
              0.3333333333333333,
              "#9c179e"
             ],
             [
              0.4444444444444444,
              "#bd3786"
             ],
             [
              0.5555555555555556,
              "#d8576b"
             ],
             [
              0.6666666666666666,
              "#ed7953"
             ],
             [
              0.7777777777777778,
              "#fb9f3a"
             ],
             [
              0.8888888888888888,
              "#fdca26"
             ],
             [
              1,
              "#f0f921"
             ]
            ],
            "type": "heatmapgl"
           }
          ],
          "histogram": [
           {
            "marker": {
             "pattern": {
              "fillmode": "overlay",
              "size": 10,
              "solidity": 0.2
             }
            },
            "type": "histogram"
           }
          ],
          "histogram2d": [
           {
            "colorbar": {
             "outlinewidth": 0,
             "ticks": ""
            },
            "colorscale": [
             [
              0,
              "#0d0887"
             ],
             [
              0.1111111111111111,
              "#46039f"
             ],
             [
              0.2222222222222222,
              "#7201a8"
             ],
             [
              0.3333333333333333,
              "#9c179e"
             ],
             [
              0.4444444444444444,
              "#bd3786"
             ],
             [
              0.5555555555555556,
              "#d8576b"
             ],
             [
              0.6666666666666666,
              "#ed7953"
             ],
             [
              0.7777777777777778,
              "#fb9f3a"
             ],
             [
              0.8888888888888888,
              "#fdca26"
             ],
             [
              1,
              "#f0f921"
             ]
            ],
            "type": "histogram2d"
           }
          ],
          "histogram2dcontour": [
           {
            "colorbar": {
             "outlinewidth": 0,
             "ticks": ""
            },
            "colorscale": [
             [
              0,
              "#0d0887"
             ],
             [
              0.1111111111111111,
              "#46039f"
             ],
             [
              0.2222222222222222,
              "#7201a8"
             ],
             [
              0.3333333333333333,
              "#9c179e"
             ],
             [
              0.4444444444444444,
              "#bd3786"
             ],
             [
              0.5555555555555556,
              "#d8576b"
             ],
             [
              0.6666666666666666,
              "#ed7953"
             ],
             [
              0.7777777777777778,
              "#fb9f3a"
             ],
             [
              0.8888888888888888,
              "#fdca26"
             ],
             [
              1,
              "#f0f921"
             ]
            ],
            "type": "histogram2dcontour"
           }
          ],
          "mesh3d": [
           {
            "colorbar": {
             "outlinewidth": 0,
             "ticks": ""
            },
            "type": "mesh3d"
           }
          ],
          "parcoords": [
           {
            "line": {
             "colorbar": {
              "outlinewidth": 0,
              "ticks": ""
             }
            },
            "type": "parcoords"
           }
          ],
          "pie": [
           {
            "automargin": true,
            "type": "pie"
           }
          ],
          "scatter": [
           {
            "fillpattern": {
             "fillmode": "overlay",
             "size": 10,
             "solidity": 0.2
            },
            "type": "scatter"
           }
          ],
          "scatter3d": [
           {
            "line": {
             "colorbar": {
              "outlinewidth": 0,
              "ticks": ""
             }
            },
            "marker": {
             "colorbar": {
              "outlinewidth": 0,
              "ticks": ""
             }
            },
            "type": "scatter3d"
           }
          ],
          "scattercarpet": [
           {
            "marker": {
             "colorbar": {
              "outlinewidth": 0,
              "ticks": ""
             }
            },
            "type": "scattercarpet"
           }
          ],
          "scattergeo": [
           {
            "marker": {
             "colorbar": {
              "outlinewidth": 0,
              "ticks": ""
             }
            },
            "type": "scattergeo"
           }
          ],
          "scattergl": [
           {
            "marker": {
             "colorbar": {
              "outlinewidth": 0,
              "ticks": ""
             }
            },
            "type": "scattergl"
           }
          ],
          "scattermapbox": [
           {
            "marker": {
             "colorbar": {
              "outlinewidth": 0,
              "ticks": ""
             }
            },
            "type": "scattermapbox"
           }
          ],
          "scatterpolar": [
           {
            "marker": {
             "colorbar": {
              "outlinewidth": 0,
              "ticks": ""
             }
            },
            "type": "scatterpolar"
           }
          ],
          "scatterpolargl": [
           {
            "marker": {
             "colorbar": {
              "outlinewidth": 0,
              "ticks": ""
             }
            },
            "type": "scatterpolargl"
           }
          ],
          "scatterternary": [
           {
            "marker": {
             "colorbar": {
              "outlinewidth": 0,
              "ticks": ""
             }
            },
            "type": "scatterternary"
           }
          ],
          "surface": [
           {
            "colorbar": {
             "outlinewidth": 0,
             "ticks": ""
            },
            "colorscale": [
             [
              0,
              "#0d0887"
             ],
             [
              0.1111111111111111,
              "#46039f"
             ],
             [
              0.2222222222222222,
              "#7201a8"
             ],
             [
              0.3333333333333333,
              "#9c179e"
             ],
             [
              0.4444444444444444,
              "#bd3786"
             ],
             [
              0.5555555555555556,
              "#d8576b"
             ],
             [
              0.6666666666666666,
              "#ed7953"
             ],
             [
              0.7777777777777778,
              "#fb9f3a"
             ],
             [
              0.8888888888888888,
              "#fdca26"
             ],
             [
              1,
              "#f0f921"
             ]
            ],
            "type": "surface"
           }
          ],
          "table": [
           {
            "cells": {
             "fill": {
              "color": "#EBF0F8"
             },
             "line": {
              "color": "white"
             }
            },
            "header": {
             "fill": {
              "color": "#C8D4E3"
             },
             "line": {
              "color": "white"
             }
            },
            "type": "table"
           }
          ]
         },
         "layout": {
          "annotationdefaults": {
           "arrowcolor": "#2a3f5f",
           "arrowhead": 0,
           "arrowwidth": 1
          },
          "autotypenumbers": "strict",
          "coloraxis": {
           "colorbar": {
            "outlinewidth": 0,
            "ticks": ""
           }
          },
          "colorscale": {
           "diverging": [
            [
             0,
             "#8e0152"
            ],
            [
             0.1,
             "#c51b7d"
            ],
            [
             0.2,
             "#de77ae"
            ],
            [
             0.3,
             "#f1b6da"
            ],
            [
             0.4,
             "#fde0ef"
            ],
            [
             0.5,
             "#f7f7f7"
            ],
            [
             0.6,
             "#e6f5d0"
            ],
            [
             0.7,
             "#b8e186"
            ],
            [
             0.8,
             "#7fbc41"
            ],
            [
             0.9,
             "#4d9221"
            ],
            [
             1,
             "#276419"
            ]
           ],
           "sequential": [
            [
             0,
             "#0d0887"
            ],
            [
             0.1111111111111111,
             "#46039f"
            ],
            [
             0.2222222222222222,
             "#7201a8"
            ],
            [
             0.3333333333333333,
             "#9c179e"
            ],
            [
             0.4444444444444444,
             "#bd3786"
            ],
            [
             0.5555555555555556,
             "#d8576b"
            ],
            [
             0.6666666666666666,
             "#ed7953"
            ],
            [
             0.7777777777777778,
             "#fb9f3a"
            ],
            [
             0.8888888888888888,
             "#fdca26"
            ],
            [
             1,
             "#f0f921"
            ]
           ],
           "sequentialminus": [
            [
             0,
             "#0d0887"
            ],
            [
             0.1111111111111111,
             "#46039f"
            ],
            [
             0.2222222222222222,
             "#7201a8"
            ],
            [
             0.3333333333333333,
             "#9c179e"
            ],
            [
             0.4444444444444444,
             "#bd3786"
            ],
            [
             0.5555555555555556,
             "#d8576b"
            ],
            [
             0.6666666666666666,
             "#ed7953"
            ],
            [
             0.7777777777777778,
             "#fb9f3a"
            ],
            [
             0.8888888888888888,
             "#fdca26"
            ],
            [
             1,
             "#f0f921"
            ]
           ]
          },
          "colorway": [
           "#636efa",
           "#EF553B",
           "#00cc96",
           "#ab63fa",
           "#FFA15A",
           "#19d3f3",
           "#FF6692",
           "#B6E880",
           "#FF97FF",
           "#FECB52"
          ],
          "font": {
           "color": "#2a3f5f"
          },
          "geo": {
           "bgcolor": "white",
           "lakecolor": "white",
           "landcolor": "#E5ECF6",
           "showlakes": true,
           "showland": true,
           "subunitcolor": "white"
          },
          "hoverlabel": {
           "align": "left"
          },
          "hovermode": "closest",
          "mapbox": {
           "style": "light"
          },
          "paper_bgcolor": "white",
          "plot_bgcolor": "#E5ECF6",
          "polar": {
           "angularaxis": {
            "gridcolor": "white",
            "linecolor": "white",
            "ticks": ""
           },
           "bgcolor": "#E5ECF6",
           "radialaxis": {
            "gridcolor": "white",
            "linecolor": "white",
            "ticks": ""
           }
          },
          "scene": {
           "xaxis": {
            "backgroundcolor": "#E5ECF6",
            "gridcolor": "white",
            "gridwidth": 2,
            "linecolor": "white",
            "showbackground": true,
            "ticks": "",
            "zerolinecolor": "white"
           },
           "yaxis": {
            "backgroundcolor": "#E5ECF6",
            "gridcolor": "white",
            "gridwidth": 2,
            "linecolor": "white",
            "showbackground": true,
            "ticks": "",
            "zerolinecolor": "white"
           },
           "zaxis": {
            "backgroundcolor": "#E5ECF6",
            "gridcolor": "white",
            "gridwidth": 2,
            "linecolor": "white",
            "showbackground": true,
            "ticks": "",
            "zerolinecolor": "white"
           }
          },
          "shapedefaults": {
           "line": {
            "color": "#2a3f5f"
           }
          },
          "ternary": {
           "aaxis": {
            "gridcolor": "white",
            "linecolor": "white",
            "ticks": ""
           },
           "baxis": {
            "gridcolor": "white",
            "linecolor": "white",
            "ticks": ""
           },
           "bgcolor": "#E5ECF6",
           "caxis": {
            "gridcolor": "white",
            "linecolor": "white",
            "ticks": ""
           }
          },
          "title": {
           "x": 0.05
          },
          "xaxis": {
           "automargin": true,
           "gridcolor": "white",
           "linecolor": "white",
           "ticks": "",
           "title": {
            "standoff": 15
           },
           "zerolinecolor": "white",
           "zerolinewidth": 2
          },
          "yaxis": {
           "automargin": true,
           "gridcolor": "white",
           "linecolor": "white",
           "ticks": "",
           "title": {
            "standoff": 15
           },
           "zerolinecolor": "white",
           "zerolinewidth": 2
          }
         }
        },
        "title": {
         "text": "Items Sold per Day"
        },
        "xaxis": {
         "anchor": "y",
         "domain": [
          0,
          1
         ],
         "title": {
          "text": "Date"
         }
        },
        "yaxis": {
         "anchor": "x",
         "domain": [
          0,
          1
         ],
         "title": {
          "text": "Qty"
         }
        }
       }
      }
     },
     "metadata": {},
     "output_type": "display_data"
    }
   ],
   "source": [
    "# Create the plot using Plotly Express\n",
    "fig = px.line(daily_sales_amounts, x='Date', y='Qty', title=\"Items Sold per Day\", markers=True)\n",
    "\n",
    "# Show the plot\n",
    "fig.show()"
   ]
  },
  {
   "cell_type": "code",
   "execution_count": 4,
   "metadata": {},
   "outputs": [],
   "source": [
    "sales_dataset[\"Hour\"] = sales_dataset[\"Datetime\"].dt.to_period(\"H\").dt.to_timestamp()"
   ]
  },
  {
   "cell_type": "code",
   "execution_count": 5,
   "metadata": {},
   "outputs": [],
   "source": [
    "sales_dataset_23 = (sales_dataset[(sales_dataset[\"Datetime\"].dt.year == 2023)])"
   ]
  },
  {
   "cell_type": "code",
   "execution_count": 6,
   "metadata": {},
   "outputs": [
    {
     "data": {
      "text/html": [
       "<div>\n",
       "<style scoped>\n",
       "    .dataframe tbody tr th:only-of-type {\n",
       "        vertical-align: middle;\n",
       "    }\n",
       "\n",
       "    .dataframe tbody tr th {\n",
       "        vertical-align: top;\n",
       "    }\n",
       "\n",
       "    .dataframe thead th {\n",
       "        text-align: right;\n",
       "    }\n",
       "</style>\n",
       "<table border=\"1\" class=\"dataframe\">\n",
       "  <thead>\n",
       "    <tr style=\"text-align: right;\">\n",
       "      <th></th>\n",
       "      <th>Date</th>\n",
       "      <th>Time</th>\n",
       "      <th>Item</th>\n",
       "      <th>Qty</th>\n",
       "      <th>Datetime</th>\n",
       "      <th>Hour</th>\n",
       "    </tr>\n",
       "  </thead>\n",
       "  <tbody>\n",
       "    <tr>\n",
       "      <th>0</th>\n",
       "      <td>2023-10-28</td>\n",
       "      <td>11:41:41</td>\n",
       "      <td>Drink 2 - Cold Brew - FM</td>\n",
       "      <td>1.0</td>\n",
       "      <td>2023-10-28 11:41:41</td>\n",
       "      <td>2023-10-28 11:00:00</td>\n",
       "    </tr>\n",
       "    <tr>\n",
       "      <th>1</th>\n",
       "      <td>2023-10-28</td>\n",
       "      <td>11:40:39</td>\n",
       "      <td>Croissant - Pain Au Chocolat - FM</td>\n",
       "      <td>1.0</td>\n",
       "      <td>2023-10-28 11:40:39</td>\n",
       "      <td>2023-10-28 11:00:00</td>\n",
       "    </tr>\n",
       "    <tr>\n",
       "      <th>2</th>\n",
       "      <td>2023-10-28</td>\n",
       "      <td>11:40:39</td>\n",
       "      <td>Croissant - Pumpkin Croissant - FM</td>\n",
       "      <td>1.0</td>\n",
       "      <td>2023-10-28 11:40:39</td>\n",
       "      <td>2023-10-28 11:00:00</td>\n",
       "    </tr>\n",
       "    <tr>\n",
       "      <th>3</th>\n",
       "      <td>2023-10-28</td>\n",
       "      <td>11:34:11</td>\n",
       "      <td>Croissant - Pumpkin Croissant - FM</td>\n",
       "      <td>1.0</td>\n",
       "      <td>2023-10-28 11:34:11</td>\n",
       "      <td>2023-10-28 11:00:00</td>\n",
       "    </tr>\n",
       "    <tr>\n",
       "      <th>4</th>\n",
       "      <td>2023-10-28</td>\n",
       "      <td>11:33:24</td>\n",
       "      <td>Croissant - Pain Au Chocolat - FM</td>\n",
       "      <td>1.0</td>\n",
       "      <td>2023-10-28 11:33:24</td>\n",
       "      <td>2023-10-28 11:00:00</td>\n",
       "    </tr>\n",
       "    <tr>\n",
       "      <th>...</th>\n",
       "      <td>...</td>\n",
       "      <td>...</td>\n",
       "      <td>...</td>\n",
       "      <td>...</td>\n",
       "      <td>...</td>\n",
       "      <td>...</td>\n",
       "    </tr>\n",
       "    <tr>\n",
       "      <th>5657</th>\n",
       "      <td>2023-05-20</td>\n",
       "      <td>07:34:51</td>\n",
       "      <td>Croissant - Butter - FM</td>\n",
       "      <td>2.0</td>\n",
       "      <td>2023-05-20 07:34:51</td>\n",
       "      <td>2023-05-20 07:00:00</td>\n",
       "    </tr>\n",
       "    <tr>\n",
       "      <th>5658</th>\n",
       "      <td>2023-05-20</td>\n",
       "      <td>07:34:51</td>\n",
       "      <td>Croissant - Ube &amp; Strawberry - FM</td>\n",
       "      <td>2.0</td>\n",
       "      <td>2023-05-20 07:34:51</td>\n",
       "      <td>2023-05-20 07:00:00</td>\n",
       "    </tr>\n",
       "    <tr>\n",
       "      <th>5659</th>\n",
       "      <td>2023-05-20</td>\n",
       "      <td>07:34:51</td>\n",
       "      <td>Muffin - Guilt Free - FM</td>\n",
       "      <td>1.0</td>\n",
       "      <td>2023-05-20 07:34:51</td>\n",
       "      <td>2023-05-20 07:00:00</td>\n",
       "    </tr>\n",
       "    <tr>\n",
       "      <th>5660</th>\n",
       "      <td>2023-05-20</td>\n",
       "      <td>07:32:54</td>\n",
       "      <td>Drink 1 - Drip Coffee - FM</td>\n",
       "      <td>1.0</td>\n",
       "      <td>2023-05-20 07:32:54</td>\n",
       "      <td>2023-05-20 07:00:00</td>\n",
       "    </tr>\n",
       "    <tr>\n",
       "      <th>5661</th>\n",
       "      <td>2023-05-20</td>\n",
       "      <td>07:32:33</td>\n",
       "      <td>Croissant - Butter - FM</td>\n",
       "      <td>2.0</td>\n",
       "      <td>2023-05-20 07:32:33</td>\n",
       "      <td>2023-05-20 07:00:00</td>\n",
       "    </tr>\n",
       "  </tbody>\n",
       "</table>\n",
       "<p>5662 rows × 6 columns</p>\n",
       "</div>"
      ],
      "text/plain": [
       "            Date      Time                                Item  Qty  \\\n",
       "0     2023-10-28  11:41:41            Drink 2 - Cold Brew - FM  1.0   \n",
       "1     2023-10-28  11:40:39   Croissant - Pain Au Chocolat - FM  1.0   \n",
       "2     2023-10-28  11:40:39  Croissant - Pumpkin Croissant - FM  1.0   \n",
       "3     2023-10-28  11:34:11  Croissant - Pumpkin Croissant - FM  1.0   \n",
       "4     2023-10-28  11:33:24   Croissant - Pain Au Chocolat - FM  1.0   \n",
       "...          ...       ...                                 ...  ...   \n",
       "5657  2023-05-20  07:34:51             Croissant - Butter - FM  2.0   \n",
       "5658  2023-05-20  07:34:51   Croissant - Ube & Strawberry - FM  2.0   \n",
       "5659  2023-05-20  07:34:51            Muffin - Guilt Free - FM  1.0   \n",
       "5660  2023-05-20  07:32:54          Drink 1 - Drip Coffee - FM  1.0   \n",
       "5661  2023-05-20  07:32:33             Croissant - Butter - FM  2.0   \n",
       "\n",
       "                Datetime                Hour  \n",
       "0    2023-10-28 11:41:41 2023-10-28 11:00:00  \n",
       "1    2023-10-28 11:40:39 2023-10-28 11:00:00  \n",
       "2    2023-10-28 11:40:39 2023-10-28 11:00:00  \n",
       "3    2023-10-28 11:34:11 2023-10-28 11:00:00  \n",
       "4    2023-10-28 11:33:24 2023-10-28 11:00:00  \n",
       "...                  ...                 ...  \n",
       "5657 2023-05-20 07:34:51 2023-05-20 07:00:00  \n",
       "5658 2023-05-20 07:34:51 2023-05-20 07:00:00  \n",
       "5659 2023-05-20 07:34:51 2023-05-20 07:00:00  \n",
       "5660 2023-05-20 07:32:54 2023-05-20 07:00:00  \n",
       "5661 2023-05-20 07:32:33 2023-05-20 07:00:00  \n",
       "\n",
       "[5662 rows x 6 columns]"
      ]
     },
     "execution_count": 6,
     "metadata": {},
     "output_type": "execute_result"
    }
   ],
   "source": [
    "sales_dataset_23"
   ]
  },
  {
   "cell_type": "code",
   "execution_count": 38,
   "metadata": {},
   "outputs": [],
   "source": [
    "sales_dataset_10_23 = (sales_dataset_23[(sales_dataset_23[\"Week_TimeStamp\"] == \"2023-10-23\")])"
   ]
  },
  {
   "cell_type": "code",
   "execution_count": 39,
   "metadata": {},
   "outputs": [
    {
     "data": {
      "text/html": [
       "<div>\n",
       "<style scoped>\n",
       "    .dataframe tbody tr th:only-of-type {\n",
       "        vertical-align: middle;\n",
       "    }\n",
       "\n",
       "    .dataframe tbody tr th {\n",
       "        vertical-align: top;\n",
       "    }\n",
       "\n",
       "    .dataframe thead th {\n",
       "        text-align: right;\n",
       "    }\n",
       "</style>\n",
       "<table border=\"1\" class=\"dataframe\">\n",
       "  <thead>\n",
       "    <tr style=\"text-align: right;\">\n",
       "      <th></th>\n",
       "      <th>Item</th>\n",
       "      <th>Qty</th>\n",
       "      <th>Datetime</th>\n",
       "      <th>Week</th>\n",
       "      <th>Week_TimeStamp</th>\n",
       "      <th>Hour</th>\n",
       "    </tr>\n",
       "  </thead>\n",
       "  <tbody>\n",
       "    <tr>\n",
       "      <th>0</th>\n",
       "      <td>Drink 2 - Cold Brew - FM</td>\n",
       "      <td>1.0</td>\n",
       "      <td>2023-10-28 11:41:41</td>\n",
       "      <td>2023-10-23/2023-10-29</td>\n",
       "      <td>2023-10-23</td>\n",
       "      <td>2023-10-28 11:00:00</td>\n",
       "    </tr>\n",
       "    <tr>\n",
       "      <th>1</th>\n",
       "      <td>Croissant - Pain Au Chocolat - FM</td>\n",
       "      <td>1.0</td>\n",
       "      <td>2023-10-28 11:40:39</td>\n",
       "      <td>2023-10-23/2023-10-29</td>\n",
       "      <td>2023-10-23</td>\n",
       "      <td>2023-10-28 11:00:00</td>\n",
       "    </tr>\n",
       "    <tr>\n",
       "      <th>2</th>\n",
       "      <td>Croissant - Pumpkin Croissant - FM</td>\n",
       "      <td>1.0</td>\n",
       "      <td>2023-10-28 11:40:39</td>\n",
       "      <td>2023-10-23/2023-10-29</td>\n",
       "      <td>2023-10-23</td>\n",
       "      <td>2023-10-28 11:00:00</td>\n",
       "    </tr>\n",
       "    <tr>\n",
       "      <th>3</th>\n",
       "      <td>Croissant - Pumpkin Croissant - FM</td>\n",
       "      <td>1.0</td>\n",
       "      <td>2023-10-28 11:34:11</td>\n",
       "      <td>2023-10-23/2023-10-29</td>\n",
       "      <td>2023-10-23</td>\n",
       "      <td>2023-10-28 11:00:00</td>\n",
       "    </tr>\n",
       "    <tr>\n",
       "      <th>4</th>\n",
       "      <td>Croissant - Pain Au Chocolat - FM</td>\n",
       "      <td>1.0</td>\n",
       "      <td>2023-10-28 11:33:24</td>\n",
       "      <td>2023-10-23/2023-10-29</td>\n",
       "      <td>2023-10-23</td>\n",
       "      <td>2023-10-28 11:00:00</td>\n",
       "    </tr>\n",
       "    <tr>\n",
       "      <th>...</th>\n",
       "      <td>...</td>\n",
       "      <td>...</td>\n",
       "      <td>...</td>\n",
       "      <td>...</td>\n",
       "      <td>...</td>\n",
       "      <td>...</td>\n",
       "    </tr>\n",
       "    <tr>\n",
       "      <th>209</th>\n",
       "      <td>Croissant - Almond - FM</td>\n",
       "      <td>1.0</td>\n",
       "      <td>2023-10-28 07:27:05</td>\n",
       "      <td>2023-10-23/2023-10-29</td>\n",
       "      <td>2023-10-23</td>\n",
       "      <td>2023-10-28 07:00:00</td>\n",
       "    </tr>\n",
       "    <tr>\n",
       "      <th>210</th>\n",
       "      <td>Croissant - Almond - FM</td>\n",
       "      <td>1.0</td>\n",
       "      <td>2023-10-28 07:22:07</td>\n",
       "      <td>2023-10-23/2023-10-29</td>\n",
       "      <td>2023-10-23</td>\n",
       "      <td>2023-10-28 07:00:00</td>\n",
       "    </tr>\n",
       "    <tr>\n",
       "      <th>211</th>\n",
       "      <td>Croissant - Pain Au Chocolat - FM</td>\n",
       "      <td>1.0</td>\n",
       "      <td>2023-10-28 07:18:14</td>\n",
       "      <td>2023-10-23/2023-10-29</td>\n",
       "      <td>2023-10-23</td>\n",
       "      <td>2023-10-28 07:00:00</td>\n",
       "    </tr>\n",
       "    <tr>\n",
       "      <th>212</th>\n",
       "      <td>Drink 1 - Drip Coffee - FM</td>\n",
       "      <td>1.0</td>\n",
       "      <td>2023-10-28 07:18:14</td>\n",
       "      <td>2023-10-23/2023-10-29</td>\n",
       "      <td>2023-10-23</td>\n",
       "      <td>2023-10-28 07:00:00</td>\n",
       "    </tr>\n",
       "    <tr>\n",
       "      <th>213</th>\n",
       "      <td>Croissant - Butter - FM</td>\n",
       "      <td>1.0</td>\n",
       "      <td>2023-10-28 07:09:59</td>\n",
       "      <td>2023-10-23/2023-10-29</td>\n",
       "      <td>2023-10-23</td>\n",
       "      <td>2023-10-28 07:00:00</td>\n",
       "    </tr>\n",
       "  </tbody>\n",
       "</table>\n",
       "<p>214 rows × 6 columns</p>\n",
       "</div>"
      ],
      "text/plain": [
       "                                   Item  Qty            Datetime  \\\n",
       "0              Drink 2 - Cold Brew - FM  1.0 2023-10-28 11:41:41   \n",
       "1     Croissant - Pain Au Chocolat - FM  1.0 2023-10-28 11:40:39   \n",
       "2    Croissant - Pumpkin Croissant - FM  1.0 2023-10-28 11:40:39   \n",
       "3    Croissant - Pumpkin Croissant - FM  1.0 2023-10-28 11:34:11   \n",
       "4     Croissant - Pain Au Chocolat - FM  1.0 2023-10-28 11:33:24   \n",
       "..                                  ...  ...                 ...   \n",
       "209             Croissant - Almond - FM  1.0 2023-10-28 07:27:05   \n",
       "210             Croissant - Almond - FM  1.0 2023-10-28 07:22:07   \n",
       "211   Croissant - Pain Au Chocolat - FM  1.0 2023-10-28 07:18:14   \n",
       "212          Drink 1 - Drip Coffee - FM  1.0 2023-10-28 07:18:14   \n",
       "213             Croissant - Butter - FM  1.0 2023-10-28 07:09:59   \n",
       "\n",
       "                      Week Week_TimeStamp                Hour  \n",
       "0    2023-10-23/2023-10-29     2023-10-23 2023-10-28 11:00:00  \n",
       "1    2023-10-23/2023-10-29     2023-10-23 2023-10-28 11:00:00  \n",
       "2    2023-10-23/2023-10-29     2023-10-23 2023-10-28 11:00:00  \n",
       "3    2023-10-23/2023-10-29     2023-10-23 2023-10-28 11:00:00  \n",
       "4    2023-10-23/2023-10-29     2023-10-23 2023-10-28 11:00:00  \n",
       "..                     ...            ...                 ...  \n",
       "209  2023-10-23/2023-10-29     2023-10-23 2023-10-28 07:00:00  \n",
       "210  2023-10-23/2023-10-29     2023-10-23 2023-10-28 07:00:00  \n",
       "211  2023-10-23/2023-10-29     2023-10-23 2023-10-28 07:00:00  \n",
       "212  2023-10-23/2023-10-29     2023-10-23 2023-10-28 07:00:00  \n",
       "213  2023-10-23/2023-10-29     2023-10-23 2023-10-28 07:00:00  \n",
       "\n",
       "[214 rows x 6 columns]"
      ]
     },
     "execution_count": 39,
     "metadata": {},
     "output_type": "execute_result"
    }
   ],
   "source": [
    "sales_dataset_10_23"
   ]
  },
  {
   "cell_type": "code",
   "execution_count": 41,
   "metadata": {},
   "outputs": [
    {
     "data": {
      "text/html": [
       "<div>\n",
       "<style scoped>\n",
       "    .dataframe tbody tr th:only-of-type {\n",
       "        vertical-align: middle;\n",
       "    }\n",
       "\n",
       "    .dataframe tbody tr th {\n",
       "        vertical-align: top;\n",
       "    }\n",
       "\n",
       "    .dataframe thead th {\n",
       "        text-align: right;\n",
       "    }\n",
       "</style>\n",
       "<table border=\"1\" class=\"dataframe\">\n",
       "  <thead>\n",
       "    <tr style=\"text-align: right;\">\n",
       "      <th></th>\n",
       "      <th>Hour</th>\n",
       "      <th>Qty</th>\n",
       "    </tr>\n",
       "  </thead>\n",
       "  <tbody>\n",
       "    <tr>\n",
       "      <th>0</th>\n",
       "      <td>2023-10-28 07:00:00</td>\n",
       "      <td>36</td>\n",
       "    </tr>\n",
       "    <tr>\n",
       "      <th>1</th>\n",
       "      <td>2023-10-28 08:00:00</td>\n",
       "      <td>49</td>\n",
       "    </tr>\n",
       "    <tr>\n",
       "      <th>2</th>\n",
       "      <td>2023-10-28 09:00:00</td>\n",
       "      <td>70</td>\n",
       "    </tr>\n",
       "    <tr>\n",
       "      <th>3</th>\n",
       "      <td>2023-10-28 10:00:00</td>\n",
       "      <td>76</td>\n",
       "    </tr>\n",
       "    <tr>\n",
       "      <th>4</th>\n",
       "      <td>2023-10-28 11:00:00</td>\n",
       "      <td>31</td>\n",
       "    </tr>\n",
       "  </tbody>\n",
       "</table>\n",
       "</div>"
      ],
      "text/plain": [
       "                 Hour  Qty\n",
       "0 2023-10-28 07:00:00   36\n",
       "1 2023-10-28 08:00:00   49\n",
       "2 2023-10-28 09:00:00   70\n",
       "3 2023-10-28 10:00:00   76\n",
       "4 2023-10-28 11:00:00   31"
      ]
     },
     "execution_count": 41,
     "metadata": {},
     "output_type": "execute_result"
    }
   ],
   "source": [
    "hourly_sales_amounts = sales_dataset_10_23.groupby(\"Hour\")['Qty'].sum().astype(int)\n",
    "\n",
    "hourly_sales_amounts = hourly_sales_amounts.reset_index() # Makes Hour into a Column instead of just an Index, which makes plotting easier\n",
    "hourly_sales_amounts"
   ]
  },
  {
   "cell_type": "code",
   "execution_count": null,
   "metadata": {},
   "outputs": [],
   "source": []
  },
  {
   "cell_type": "code",
   "execution_count": 42,
   "metadata": {},
   "outputs": [
    {
     "data": {
      "application/vnd.plotly.v1+json": {
       "config": {
        "plotlyServerURL": "https://plot.ly"
       },
       "data": [
        {
         "hovertemplate": "Hour=%{x}<br>Qty=%{y}<extra></extra>",
         "legendgroup": "",
         "line": {
          "color": "#636efa",
          "dash": "solid"
         },
         "marker": {
          "symbol": "circle"
         },
         "mode": "lines+markers",
         "name": "",
         "orientation": "v",
         "showlegend": false,
         "type": "scatter",
         "x": [
          "2023-10-28T07:00:00",
          "2023-10-28T08:00:00",
          "2023-10-28T09:00:00",
          "2023-10-28T10:00:00",
          "2023-10-28T11:00:00"
         ],
         "xaxis": "x",
         "y": [
          36,
          49,
          70,
          76,
          31
         ],
         "yaxis": "y"
        }
       ],
       "layout": {
        "legend": {
         "tracegroupgap": 0
        },
        "template": {
         "data": {
          "bar": [
           {
            "error_x": {
             "color": "#2a3f5f"
            },
            "error_y": {
             "color": "#2a3f5f"
            },
            "marker": {
             "line": {
              "color": "#E5ECF6",
              "width": 0.5
             },
             "pattern": {
              "fillmode": "overlay",
              "size": 10,
              "solidity": 0.2
             }
            },
            "type": "bar"
           }
          ],
          "barpolar": [
           {
            "marker": {
             "line": {
              "color": "#E5ECF6",
              "width": 0.5
             },
             "pattern": {
              "fillmode": "overlay",
              "size": 10,
              "solidity": 0.2
             }
            },
            "type": "barpolar"
           }
          ],
          "carpet": [
           {
            "aaxis": {
             "endlinecolor": "#2a3f5f",
             "gridcolor": "white",
             "linecolor": "white",
             "minorgridcolor": "white",
             "startlinecolor": "#2a3f5f"
            },
            "baxis": {
             "endlinecolor": "#2a3f5f",
             "gridcolor": "white",
             "linecolor": "white",
             "minorgridcolor": "white",
             "startlinecolor": "#2a3f5f"
            },
            "type": "carpet"
           }
          ],
          "choropleth": [
           {
            "colorbar": {
             "outlinewidth": 0,
             "ticks": ""
            },
            "type": "choropleth"
           }
          ],
          "contour": [
           {
            "colorbar": {
             "outlinewidth": 0,
             "ticks": ""
            },
            "colorscale": [
             [
              0,
              "#0d0887"
             ],
             [
              0.1111111111111111,
              "#46039f"
             ],
             [
              0.2222222222222222,
              "#7201a8"
             ],
             [
              0.3333333333333333,
              "#9c179e"
             ],
             [
              0.4444444444444444,
              "#bd3786"
             ],
             [
              0.5555555555555556,
              "#d8576b"
             ],
             [
              0.6666666666666666,
              "#ed7953"
             ],
             [
              0.7777777777777778,
              "#fb9f3a"
             ],
             [
              0.8888888888888888,
              "#fdca26"
             ],
             [
              1,
              "#f0f921"
             ]
            ],
            "type": "contour"
           }
          ],
          "contourcarpet": [
           {
            "colorbar": {
             "outlinewidth": 0,
             "ticks": ""
            },
            "type": "contourcarpet"
           }
          ],
          "heatmap": [
           {
            "colorbar": {
             "outlinewidth": 0,
             "ticks": ""
            },
            "colorscale": [
             [
              0,
              "#0d0887"
             ],
             [
              0.1111111111111111,
              "#46039f"
             ],
             [
              0.2222222222222222,
              "#7201a8"
             ],
             [
              0.3333333333333333,
              "#9c179e"
             ],
             [
              0.4444444444444444,
              "#bd3786"
             ],
             [
              0.5555555555555556,
              "#d8576b"
             ],
             [
              0.6666666666666666,
              "#ed7953"
             ],
             [
              0.7777777777777778,
              "#fb9f3a"
             ],
             [
              0.8888888888888888,
              "#fdca26"
             ],
             [
              1,
              "#f0f921"
             ]
            ],
            "type": "heatmap"
           }
          ],
          "heatmapgl": [
           {
            "colorbar": {
             "outlinewidth": 0,
             "ticks": ""
            },
            "colorscale": [
             [
              0,
              "#0d0887"
             ],
             [
              0.1111111111111111,
              "#46039f"
             ],
             [
              0.2222222222222222,
              "#7201a8"
             ],
             [
              0.3333333333333333,
              "#9c179e"
             ],
             [
              0.4444444444444444,
              "#bd3786"
             ],
             [
              0.5555555555555556,
              "#d8576b"
             ],
             [
              0.6666666666666666,
              "#ed7953"
             ],
             [
              0.7777777777777778,
              "#fb9f3a"
             ],
             [
              0.8888888888888888,
              "#fdca26"
             ],
             [
              1,
              "#f0f921"
             ]
            ],
            "type": "heatmapgl"
           }
          ],
          "histogram": [
           {
            "marker": {
             "pattern": {
              "fillmode": "overlay",
              "size": 10,
              "solidity": 0.2
             }
            },
            "type": "histogram"
           }
          ],
          "histogram2d": [
           {
            "colorbar": {
             "outlinewidth": 0,
             "ticks": ""
            },
            "colorscale": [
             [
              0,
              "#0d0887"
             ],
             [
              0.1111111111111111,
              "#46039f"
             ],
             [
              0.2222222222222222,
              "#7201a8"
             ],
             [
              0.3333333333333333,
              "#9c179e"
             ],
             [
              0.4444444444444444,
              "#bd3786"
             ],
             [
              0.5555555555555556,
              "#d8576b"
             ],
             [
              0.6666666666666666,
              "#ed7953"
             ],
             [
              0.7777777777777778,
              "#fb9f3a"
             ],
             [
              0.8888888888888888,
              "#fdca26"
             ],
             [
              1,
              "#f0f921"
             ]
            ],
            "type": "histogram2d"
           }
          ],
          "histogram2dcontour": [
           {
            "colorbar": {
             "outlinewidth": 0,
             "ticks": ""
            },
            "colorscale": [
             [
              0,
              "#0d0887"
             ],
             [
              0.1111111111111111,
              "#46039f"
             ],
             [
              0.2222222222222222,
              "#7201a8"
             ],
             [
              0.3333333333333333,
              "#9c179e"
             ],
             [
              0.4444444444444444,
              "#bd3786"
             ],
             [
              0.5555555555555556,
              "#d8576b"
             ],
             [
              0.6666666666666666,
              "#ed7953"
             ],
             [
              0.7777777777777778,
              "#fb9f3a"
             ],
             [
              0.8888888888888888,
              "#fdca26"
             ],
             [
              1,
              "#f0f921"
             ]
            ],
            "type": "histogram2dcontour"
           }
          ],
          "mesh3d": [
           {
            "colorbar": {
             "outlinewidth": 0,
             "ticks": ""
            },
            "type": "mesh3d"
           }
          ],
          "parcoords": [
           {
            "line": {
             "colorbar": {
              "outlinewidth": 0,
              "ticks": ""
             }
            },
            "type": "parcoords"
           }
          ],
          "pie": [
           {
            "automargin": true,
            "type": "pie"
           }
          ],
          "scatter": [
           {
            "fillpattern": {
             "fillmode": "overlay",
             "size": 10,
             "solidity": 0.2
            },
            "type": "scatter"
           }
          ],
          "scatter3d": [
           {
            "line": {
             "colorbar": {
              "outlinewidth": 0,
              "ticks": ""
             }
            },
            "marker": {
             "colorbar": {
              "outlinewidth": 0,
              "ticks": ""
             }
            },
            "type": "scatter3d"
           }
          ],
          "scattercarpet": [
           {
            "marker": {
             "colorbar": {
              "outlinewidth": 0,
              "ticks": ""
             }
            },
            "type": "scattercarpet"
           }
          ],
          "scattergeo": [
           {
            "marker": {
             "colorbar": {
              "outlinewidth": 0,
              "ticks": ""
             }
            },
            "type": "scattergeo"
           }
          ],
          "scattergl": [
           {
            "marker": {
             "colorbar": {
              "outlinewidth": 0,
              "ticks": ""
             }
            },
            "type": "scattergl"
           }
          ],
          "scattermapbox": [
           {
            "marker": {
             "colorbar": {
              "outlinewidth": 0,
              "ticks": ""
             }
            },
            "type": "scattermapbox"
           }
          ],
          "scatterpolar": [
           {
            "marker": {
             "colorbar": {
              "outlinewidth": 0,
              "ticks": ""
             }
            },
            "type": "scatterpolar"
           }
          ],
          "scatterpolargl": [
           {
            "marker": {
             "colorbar": {
              "outlinewidth": 0,
              "ticks": ""
             }
            },
            "type": "scatterpolargl"
           }
          ],
          "scatterternary": [
           {
            "marker": {
             "colorbar": {
              "outlinewidth": 0,
              "ticks": ""
             }
            },
            "type": "scatterternary"
           }
          ],
          "surface": [
           {
            "colorbar": {
             "outlinewidth": 0,
             "ticks": ""
            },
            "colorscale": [
             [
              0,
              "#0d0887"
             ],
             [
              0.1111111111111111,
              "#46039f"
             ],
             [
              0.2222222222222222,
              "#7201a8"
             ],
             [
              0.3333333333333333,
              "#9c179e"
             ],
             [
              0.4444444444444444,
              "#bd3786"
             ],
             [
              0.5555555555555556,
              "#d8576b"
             ],
             [
              0.6666666666666666,
              "#ed7953"
             ],
             [
              0.7777777777777778,
              "#fb9f3a"
             ],
             [
              0.8888888888888888,
              "#fdca26"
             ],
             [
              1,
              "#f0f921"
             ]
            ],
            "type": "surface"
           }
          ],
          "table": [
           {
            "cells": {
             "fill": {
              "color": "#EBF0F8"
             },
             "line": {
              "color": "white"
             }
            },
            "header": {
             "fill": {
              "color": "#C8D4E3"
             },
             "line": {
              "color": "white"
             }
            },
            "type": "table"
           }
          ]
         },
         "layout": {
          "annotationdefaults": {
           "arrowcolor": "#2a3f5f",
           "arrowhead": 0,
           "arrowwidth": 1
          },
          "autotypenumbers": "strict",
          "coloraxis": {
           "colorbar": {
            "outlinewidth": 0,
            "ticks": ""
           }
          },
          "colorscale": {
           "diverging": [
            [
             0,
             "#8e0152"
            ],
            [
             0.1,
             "#c51b7d"
            ],
            [
             0.2,
             "#de77ae"
            ],
            [
             0.3,
             "#f1b6da"
            ],
            [
             0.4,
             "#fde0ef"
            ],
            [
             0.5,
             "#f7f7f7"
            ],
            [
             0.6,
             "#e6f5d0"
            ],
            [
             0.7,
             "#b8e186"
            ],
            [
             0.8,
             "#7fbc41"
            ],
            [
             0.9,
             "#4d9221"
            ],
            [
             1,
             "#276419"
            ]
           ],
           "sequential": [
            [
             0,
             "#0d0887"
            ],
            [
             0.1111111111111111,
             "#46039f"
            ],
            [
             0.2222222222222222,
             "#7201a8"
            ],
            [
             0.3333333333333333,
             "#9c179e"
            ],
            [
             0.4444444444444444,
             "#bd3786"
            ],
            [
             0.5555555555555556,
             "#d8576b"
            ],
            [
             0.6666666666666666,
             "#ed7953"
            ],
            [
             0.7777777777777778,
             "#fb9f3a"
            ],
            [
             0.8888888888888888,
             "#fdca26"
            ],
            [
             1,
             "#f0f921"
            ]
           ],
           "sequentialminus": [
            [
             0,
             "#0d0887"
            ],
            [
             0.1111111111111111,
             "#46039f"
            ],
            [
             0.2222222222222222,
             "#7201a8"
            ],
            [
             0.3333333333333333,
             "#9c179e"
            ],
            [
             0.4444444444444444,
             "#bd3786"
            ],
            [
             0.5555555555555556,
             "#d8576b"
            ],
            [
             0.6666666666666666,
             "#ed7953"
            ],
            [
             0.7777777777777778,
             "#fb9f3a"
            ],
            [
             0.8888888888888888,
             "#fdca26"
            ],
            [
             1,
             "#f0f921"
            ]
           ]
          },
          "colorway": [
           "#636efa",
           "#EF553B",
           "#00cc96",
           "#ab63fa",
           "#FFA15A",
           "#19d3f3",
           "#FF6692",
           "#B6E880",
           "#FF97FF",
           "#FECB52"
          ],
          "font": {
           "color": "#2a3f5f"
          },
          "geo": {
           "bgcolor": "white",
           "lakecolor": "white",
           "landcolor": "#E5ECF6",
           "showlakes": true,
           "showland": true,
           "subunitcolor": "white"
          },
          "hoverlabel": {
           "align": "left"
          },
          "hovermode": "closest",
          "mapbox": {
           "style": "light"
          },
          "paper_bgcolor": "white",
          "plot_bgcolor": "#E5ECF6",
          "polar": {
           "angularaxis": {
            "gridcolor": "white",
            "linecolor": "white",
            "ticks": ""
           },
           "bgcolor": "#E5ECF6",
           "radialaxis": {
            "gridcolor": "white",
            "linecolor": "white",
            "ticks": ""
           }
          },
          "scene": {
           "xaxis": {
            "backgroundcolor": "#E5ECF6",
            "gridcolor": "white",
            "gridwidth": 2,
            "linecolor": "white",
            "showbackground": true,
            "ticks": "",
            "zerolinecolor": "white"
           },
           "yaxis": {
            "backgroundcolor": "#E5ECF6",
            "gridcolor": "white",
            "gridwidth": 2,
            "linecolor": "white",
            "showbackground": true,
            "ticks": "",
            "zerolinecolor": "white"
           },
           "zaxis": {
            "backgroundcolor": "#E5ECF6",
            "gridcolor": "white",
            "gridwidth": 2,
            "linecolor": "white",
            "showbackground": true,
            "ticks": "",
            "zerolinecolor": "white"
           }
          },
          "shapedefaults": {
           "line": {
            "color": "#2a3f5f"
           }
          },
          "ternary": {
           "aaxis": {
            "gridcolor": "white",
            "linecolor": "white",
            "ticks": ""
           },
           "baxis": {
            "gridcolor": "white",
            "linecolor": "white",
            "ticks": ""
           },
           "bgcolor": "#E5ECF6",
           "caxis": {
            "gridcolor": "white",
            "linecolor": "white",
            "ticks": ""
           }
          },
          "title": {
           "x": 0.05
          },
          "xaxis": {
           "automargin": true,
           "gridcolor": "white",
           "linecolor": "white",
           "ticks": "",
           "title": {
            "standoff": 15
           },
           "zerolinecolor": "white",
           "zerolinewidth": 2
          },
          "yaxis": {
           "automargin": true,
           "gridcolor": "white",
           "linecolor": "white",
           "ticks": "",
           "title": {
            "standoff": 15
           },
           "zerolinecolor": "white",
           "zerolinewidth": 2
          }
         }
        },
        "title": {
         "text": "Items Sold Hourly"
        },
        "xaxis": {
         "anchor": "y",
         "domain": [
          0,
          1
         ],
         "title": {
          "text": "Hour"
         }
        },
        "yaxis": {
         "anchor": "x",
         "domain": [
          0,
          1
         ],
         "title": {
          "text": "Qty"
         }
        }
       }
      }
     },
     "metadata": {},
     "output_type": "display_data"
    }
   ],
   "source": [
    "# Create the plot using Plotly Express\n",
    "fig = px.line(hourly_sales_amounts, x='Hour', y='Qty', title=\"Items Sold Hourly\", markers=True)\n",
    "\n",
    "# Show the plot\n",
    "fig.show()"
   ]
  },
  {
   "cell_type": "code",
   "execution_count": 5,
   "metadata": {},
   "outputs": [
    {
     "data": {
      "text/html": [
       "<div>\n",
       "<style scoped>\n",
       "    .dataframe tbody tr th:only-of-type {\n",
       "        vertical-align: middle;\n",
       "    }\n",
       "\n",
       "    .dataframe tbody tr th {\n",
       "        vertical-align: top;\n",
       "    }\n",
       "\n",
       "    .dataframe thead th {\n",
       "        text-align: right;\n",
       "    }\n",
       "</style>\n",
       "<table border=\"1\" class=\"dataframe\">\n",
       "  <thead>\n",
       "    <tr style=\"text-align: right;\">\n",
       "      <th></th>\n",
       "      <th>Item</th>\n",
       "      <th>Qty</th>\n",
       "      <th>Datetime</th>\n",
       "      <th>Week</th>\n",
       "      <th>Week_TimeStamp</th>\n",
       "      <th>Hour</th>\n",
       "    </tr>\n",
       "  </thead>\n",
       "  <tbody>\n",
       "    <tr>\n",
       "      <th>0</th>\n",
       "      <td>Drink 2 - Cold Brew - FM</td>\n",
       "      <td>1.0</td>\n",
       "      <td>2023-10-28 11:41:41</td>\n",
       "      <td>2023-10-23/2023-10-29</td>\n",
       "      <td>2023-10-23</td>\n",
       "      <td>2023-10-28 11:00:00</td>\n",
       "    </tr>\n",
       "    <tr>\n",
       "      <th>1</th>\n",
       "      <td>Croissant - Pain Au Chocolat - FM</td>\n",
       "      <td>1.0</td>\n",
       "      <td>2023-10-28 11:40:39</td>\n",
       "      <td>2023-10-23/2023-10-29</td>\n",
       "      <td>2023-10-23</td>\n",
       "      <td>2023-10-28 11:00:00</td>\n",
       "    </tr>\n",
       "    <tr>\n",
       "      <th>2</th>\n",
       "      <td>Croissant - Pumpkin Croissant - FM</td>\n",
       "      <td>1.0</td>\n",
       "      <td>2023-10-28 11:40:39</td>\n",
       "      <td>2023-10-23/2023-10-29</td>\n",
       "      <td>2023-10-23</td>\n",
       "      <td>2023-10-28 11:00:00</td>\n",
       "    </tr>\n",
       "    <tr>\n",
       "      <th>3</th>\n",
       "      <td>Croissant - Pumpkin Croissant - FM</td>\n",
       "      <td>1.0</td>\n",
       "      <td>2023-10-28 11:34:11</td>\n",
       "      <td>2023-10-23/2023-10-29</td>\n",
       "      <td>2023-10-23</td>\n",
       "      <td>2023-10-28 11:00:00</td>\n",
       "    </tr>\n",
       "    <tr>\n",
       "      <th>4</th>\n",
       "      <td>Croissant - Pain Au Chocolat - FM</td>\n",
       "      <td>1.0</td>\n",
       "      <td>2023-10-28 11:33:24</td>\n",
       "      <td>2023-10-23/2023-10-29</td>\n",
       "      <td>2023-10-23</td>\n",
       "      <td>2023-10-28 11:00:00</td>\n",
       "    </tr>\n",
       "    <tr>\n",
       "      <th>...</th>\n",
       "      <td>...</td>\n",
       "      <td>...</td>\n",
       "      <td>...</td>\n",
       "      <td>...</td>\n",
       "      <td>...</td>\n",
       "      <td>...</td>\n",
       "    </tr>\n",
       "    <tr>\n",
       "      <th>11844</th>\n",
       "      <td>Butter Croissant - FM</td>\n",
       "      <td>1.0</td>\n",
       "      <td>2024-05-18 07:14:30</td>\n",
       "      <td>2024-05-13/2024-05-19</td>\n",
       "      <td>2024-05-13</td>\n",
       "      <td>2024-05-18 07:00:00</td>\n",
       "    </tr>\n",
       "    <tr>\n",
       "      <th>11845</th>\n",
       "      <td>Kouign Amann - FM</td>\n",
       "      <td>1.0</td>\n",
       "      <td>2024-05-18 07:13:11</td>\n",
       "      <td>2024-05-13/2024-05-19</td>\n",
       "      <td>2024-05-13</td>\n",
       "      <td>2024-05-18 07:00:00</td>\n",
       "    </tr>\n",
       "    <tr>\n",
       "      <th>11846</th>\n",
       "      <td>Almond Croissant - FM</td>\n",
       "      <td>1.0</td>\n",
       "      <td>2024-05-18 07:10:47</td>\n",
       "      <td>2024-05-13/2024-05-19</td>\n",
       "      <td>2024-05-13</td>\n",
       "      <td>2024-05-18 07:00:00</td>\n",
       "    </tr>\n",
       "    <tr>\n",
       "      <th>11847</th>\n",
       "      <td>Ube &amp; Strawberry Croissant - FM</td>\n",
       "      <td>1.0</td>\n",
       "      <td>2024-05-18 07:10:18</td>\n",
       "      <td>2024-05-13/2024-05-19</td>\n",
       "      <td>2024-05-13</td>\n",
       "      <td>2024-05-18 07:00:00</td>\n",
       "    </tr>\n",
       "    <tr>\n",
       "      <th>11848</th>\n",
       "      <td>Pain Aux Raisin - FM</td>\n",
       "      <td>1.0</td>\n",
       "      <td>2024-05-18 07:10:18</td>\n",
       "      <td>2024-05-13/2024-05-19</td>\n",
       "      <td>2024-05-13</td>\n",
       "      <td>2024-05-18 07:00:00</td>\n",
       "    </tr>\n",
       "  </tbody>\n",
       "</table>\n",
       "<p>11849 rows × 6 columns</p>\n",
       "</div>"
      ],
      "text/plain": [
       "                                     Item  Qty            Datetime  \\\n",
       "0                Drink 2 - Cold Brew - FM  1.0 2023-10-28 11:41:41   \n",
       "1       Croissant - Pain Au Chocolat - FM  1.0 2023-10-28 11:40:39   \n",
       "2      Croissant - Pumpkin Croissant - FM  1.0 2023-10-28 11:40:39   \n",
       "3      Croissant - Pumpkin Croissant - FM  1.0 2023-10-28 11:34:11   \n",
       "4       Croissant - Pain Au Chocolat - FM  1.0 2023-10-28 11:33:24   \n",
       "...                                   ...  ...                 ...   \n",
       "11844               Butter Croissant - FM  1.0 2024-05-18 07:14:30   \n",
       "11845                   Kouign Amann - FM  1.0 2024-05-18 07:13:11   \n",
       "11846               Almond Croissant - FM  1.0 2024-05-18 07:10:47   \n",
       "11847     Ube & Strawberry Croissant - FM  1.0 2024-05-18 07:10:18   \n",
       "11848                Pain Aux Raisin - FM  1.0 2024-05-18 07:10:18   \n",
       "\n",
       "                        Week Week_TimeStamp                Hour  \n",
       "0      2023-10-23/2023-10-29     2023-10-23 2023-10-28 11:00:00  \n",
       "1      2023-10-23/2023-10-29     2023-10-23 2023-10-28 11:00:00  \n",
       "2      2023-10-23/2023-10-29     2023-10-23 2023-10-28 11:00:00  \n",
       "3      2023-10-23/2023-10-29     2023-10-23 2023-10-28 11:00:00  \n",
       "4      2023-10-23/2023-10-29     2023-10-23 2023-10-28 11:00:00  \n",
       "...                      ...            ...                 ...  \n",
       "11844  2024-05-13/2024-05-19     2024-05-13 2024-05-18 07:00:00  \n",
       "11845  2024-05-13/2024-05-19     2024-05-13 2024-05-18 07:00:00  \n",
       "11846  2024-05-13/2024-05-19     2024-05-13 2024-05-18 07:00:00  \n",
       "11847  2024-05-13/2024-05-19     2024-05-13 2024-05-18 07:00:00  \n",
       "11848  2024-05-13/2024-05-19     2024-05-13 2024-05-18 07:00:00  \n",
       "\n",
       "[11849 rows x 6 columns]"
      ]
     },
     "execution_count": 5,
     "metadata": {},
     "output_type": "execute_result"
    }
   ],
   "source": [
    "sales_dataset"
   ]
  },
  {
   "cell_type": "markdown",
   "metadata": {},
   "source": [
    "see if there are any trends in number of total sales and time of year\n",
    "\n",
    "---"
   ]
  },
  {
   "cell_type": "code",
   "execution_count": 5,
   "metadata": {},
   "outputs": [
    {
     "data": {
      "text/html": [
       "<div>\n",
       "<style scoped>\n",
       "    .dataframe tbody tr th:only-of-type {\n",
       "        vertical-align: middle;\n",
       "    }\n",
       "\n",
       "    .dataframe tbody tr th {\n",
       "        vertical-align: top;\n",
       "    }\n",
       "\n",
       "    .dataframe thead th {\n",
       "        text-align: right;\n",
       "    }\n",
       "</style>\n",
       "<table border=\"1\" class=\"dataframe\">\n",
       "  <thead>\n",
       "    <tr style=\"text-align: right;\">\n",
       "      <th></th>\n",
       "      <th>Week_TimeStamp</th>\n",
       "      <th>Qty</th>\n",
       "    </tr>\n",
       "  </thead>\n",
       "  <tbody>\n",
       "    <tr>\n",
       "      <th>0</th>\n",
       "      <td>2023-05-15</td>\n",
       "      <td>403</td>\n",
       "    </tr>\n",
       "    <tr>\n",
       "      <th>1</th>\n",
       "      <td>2023-05-22</td>\n",
       "      <td>484</td>\n",
       "    </tr>\n",
       "    <tr>\n",
       "      <th>2</th>\n",
       "      <td>2023-05-29</td>\n",
       "      <td>453</td>\n",
       "    </tr>\n",
       "    <tr>\n",
       "      <th>3</th>\n",
       "      <td>2023-06-05</td>\n",
       "      <td>428</td>\n",
       "    </tr>\n",
       "    <tr>\n",
       "      <th>4</th>\n",
       "      <td>2023-06-12</td>\n",
       "      <td>485</td>\n",
       "    </tr>\n",
       "    <tr>\n",
       "      <th>5</th>\n",
       "      <td>2023-06-19</td>\n",
       "      <td>489</td>\n",
       "    </tr>\n",
       "    <tr>\n",
       "      <th>6</th>\n",
       "      <td>2023-07-10</td>\n",
       "      <td>400</td>\n",
       "    </tr>\n",
       "    <tr>\n",
       "      <th>7</th>\n",
       "      <td>2023-07-17</td>\n",
       "      <td>404</td>\n",
       "    </tr>\n",
       "    <tr>\n",
       "      <th>8</th>\n",
       "      <td>2023-07-24</td>\n",
       "      <td>373</td>\n",
       "    </tr>\n",
       "    <tr>\n",
       "      <th>9</th>\n",
       "      <td>2023-07-31</td>\n",
       "      <td>292</td>\n",
       "    </tr>\n",
       "    <tr>\n",
       "      <th>10</th>\n",
       "      <td>2023-09-04</td>\n",
       "      <td>371</td>\n",
       "    </tr>\n",
       "    <tr>\n",
       "      <th>11</th>\n",
       "      <td>2023-09-11</td>\n",
       "      <td>386</td>\n",
       "    </tr>\n",
       "    <tr>\n",
       "      <th>12</th>\n",
       "      <td>2023-09-18</td>\n",
       "      <td>377</td>\n",
       "    </tr>\n",
       "    <tr>\n",
       "      <th>13</th>\n",
       "      <td>2023-09-25</td>\n",
       "      <td>389</td>\n",
       "    </tr>\n",
       "    <tr>\n",
       "      <th>14</th>\n",
       "      <td>2023-10-02</td>\n",
       "      <td>324</td>\n",
       "    </tr>\n",
       "    <tr>\n",
       "      <th>15</th>\n",
       "      <td>2023-10-16</td>\n",
       "      <td>153</td>\n",
       "    </tr>\n",
       "    <tr>\n",
       "      <th>16</th>\n",
       "      <td>2023-10-23</td>\n",
       "      <td>262</td>\n",
       "    </tr>\n",
       "    <tr>\n",
       "      <th>17</th>\n",
       "      <td>2024-05-13</td>\n",
       "      <td>412</td>\n",
       "    </tr>\n",
       "    <tr>\n",
       "      <th>18</th>\n",
       "      <td>2024-05-20</td>\n",
       "      <td>425</td>\n",
       "    </tr>\n",
       "    <tr>\n",
       "      <th>19</th>\n",
       "      <td>2024-06-03</td>\n",
       "      <td>368</td>\n",
       "    </tr>\n",
       "    <tr>\n",
       "      <th>20</th>\n",
       "      <td>2024-06-10</td>\n",
       "      <td>361</td>\n",
       "    </tr>\n",
       "    <tr>\n",
       "      <th>21</th>\n",
       "      <td>2024-06-17</td>\n",
       "      <td>388</td>\n",
       "    </tr>\n",
       "    <tr>\n",
       "      <th>22</th>\n",
       "      <td>2024-06-24</td>\n",
       "      <td>339</td>\n",
       "    </tr>\n",
       "    <tr>\n",
       "      <th>23</th>\n",
       "      <td>2024-07-01</td>\n",
       "      <td>381</td>\n",
       "    </tr>\n",
       "    <tr>\n",
       "      <th>24</th>\n",
       "      <td>2024-07-08</td>\n",
       "      <td>359</td>\n",
       "    </tr>\n",
       "    <tr>\n",
       "      <th>25</th>\n",
       "      <td>2024-07-15</td>\n",
       "      <td>369</td>\n",
       "    </tr>\n",
       "    <tr>\n",
       "      <th>26</th>\n",
       "      <td>2024-07-22</td>\n",
       "      <td>380</td>\n",
       "    </tr>\n",
       "    <tr>\n",
       "      <th>27</th>\n",
       "      <td>2024-07-29</td>\n",
       "      <td>346</td>\n",
       "    </tr>\n",
       "    <tr>\n",
       "      <th>28</th>\n",
       "      <td>2024-08-05</td>\n",
       "      <td>362</td>\n",
       "    </tr>\n",
       "    <tr>\n",
       "      <th>29</th>\n",
       "      <td>2024-08-19</td>\n",
       "      <td>350</td>\n",
       "    </tr>\n",
       "    <tr>\n",
       "      <th>30</th>\n",
       "      <td>2024-08-26</td>\n",
       "      <td>353</td>\n",
       "    </tr>\n",
       "    <tr>\n",
       "      <th>31</th>\n",
       "      <td>2024-09-02</td>\n",
       "      <td>322</td>\n",
       "    </tr>\n",
       "    <tr>\n",
       "      <th>32</th>\n",
       "      <td>2024-09-09</td>\n",
       "      <td>264</td>\n",
       "    </tr>\n",
       "    <tr>\n",
       "      <th>33</th>\n",
       "      <td>2024-09-16</td>\n",
       "      <td>227</td>\n",
       "    </tr>\n",
       "    <tr>\n",
       "      <th>34</th>\n",
       "      <td>2024-09-30</td>\n",
       "      <td>240</td>\n",
       "    </tr>\n",
       "    <tr>\n",
       "      <th>35</th>\n",
       "      <td>2024-10-07</td>\n",
       "      <td>251</td>\n",
       "    </tr>\n",
       "    <tr>\n",
       "      <th>36</th>\n",
       "      <td>2024-10-14</td>\n",
       "      <td>232</td>\n",
       "    </tr>\n",
       "    <tr>\n",
       "      <th>37</th>\n",
       "      <td>2024-10-21</td>\n",
       "      <td>232</td>\n",
       "    </tr>\n",
       "  </tbody>\n",
       "</table>\n",
       "</div>"
      ],
      "text/plain": [
       "   Week_TimeStamp  Qty\n",
       "0      2023-05-15  403\n",
       "1      2023-05-22  484\n",
       "2      2023-05-29  453\n",
       "3      2023-06-05  428\n",
       "4      2023-06-12  485\n",
       "5      2023-06-19  489\n",
       "6      2023-07-10  400\n",
       "7      2023-07-17  404\n",
       "8      2023-07-24  373\n",
       "9      2023-07-31  292\n",
       "10     2023-09-04  371\n",
       "11     2023-09-11  386\n",
       "12     2023-09-18  377\n",
       "13     2023-09-25  389\n",
       "14     2023-10-02  324\n",
       "15     2023-10-16  153\n",
       "16     2023-10-23  262\n",
       "17     2024-05-13  412\n",
       "18     2024-05-20  425\n",
       "19     2024-06-03  368\n",
       "20     2024-06-10  361\n",
       "21     2024-06-17  388\n",
       "22     2024-06-24  339\n",
       "23     2024-07-01  381\n",
       "24     2024-07-08  359\n",
       "25     2024-07-15  369\n",
       "26     2024-07-22  380\n",
       "27     2024-07-29  346\n",
       "28     2024-08-05  362\n",
       "29     2024-08-19  350\n",
       "30     2024-08-26  353\n",
       "31     2024-09-02  322\n",
       "32     2024-09-09  264\n",
       "33     2024-09-16  227\n",
       "34     2024-09-30  240\n",
       "35     2024-10-07  251\n",
       "36     2024-10-14  232\n",
       "37     2024-10-21  232"
      ]
     },
     "execution_count": 5,
     "metadata": {},
     "output_type": "execute_result"
    }
   ],
   "source": [
    "weekly_sales_amounts = (sales_dataset.groupby(\"Week_TimeStamp\")['Qty'].sum().astype(int))\n",
    "\n",
    "weekly_sales_amounts = weekly_sales_amounts.reset_index() # Makes Week_TimeStamp into a Column instead of just an Index, which makes plotting easier\n",
    "weekly_sales_amounts"
   ]
  },
  {
   "cell_type": "code",
   "execution_count": null,
   "metadata": {},
   "outputs": [
    {
     "ename": "NameError",
     "evalue": "name 'weekly_sales_amounts' is not defined",
     "output_type": "error",
     "traceback": [
      "\u001b[0;31m---------------------------------------------------------------------------\u001b[0m",
      "\u001b[0;31mNameError\u001b[0m                                 Traceback (most recent call last)",
      "Input \u001b[0;32mIn [7]\u001b[0m, in \u001b[0;36m<module>\u001b[0;34m\u001b[0m\n\u001b[1;32m      1\u001b[0m \u001b[38;5;66;03m# Create the plot using Plotly Express\u001b[39;00m\n\u001b[0;32m----> 2\u001b[0m fig \u001b[38;5;241m=\u001b[39m px\u001b[38;5;241m.\u001b[39mline(\u001b[43mweekly_sales_amounts\u001b[49m, x\u001b[38;5;241m=\u001b[39m\u001b[38;5;124m'\u001b[39m\u001b[38;5;124mDate\u001b[39m\u001b[38;5;124m'\u001b[39m, y\u001b[38;5;241m=\u001b[39m\u001b[38;5;124m'\u001b[39m\u001b[38;5;124mQty\u001b[39m\u001b[38;5;124m'\u001b[39m, title\u001b[38;5;241m=\u001b[39m\u001b[38;5;124m\"\u001b[39m\u001b[38;5;124mItems Sold per Week\u001b[39m\u001b[38;5;124m\"\u001b[39m, markers\u001b[38;5;241m=\u001b[39m\u001b[38;5;28;01mTrue\u001b[39;00m)\n\u001b[1;32m      4\u001b[0m \u001b[38;5;66;03m# Show the plot\u001b[39;00m\n\u001b[1;32m      5\u001b[0m fig\u001b[38;5;241m.\u001b[39mshow()\n",
      "\u001b[0;31mNameError\u001b[0m: name 'weekly_sales_amounts' is not defined"
     ]
    }
   ],
   "source": [
    "# Create the plot using Plotly Express\n",
    "fig = px.line(weekly_sales_amounts, x='Week_TimeStamp', y='Qty', title=\"Items Sold per Week\", markers=True)\n",
    "\n",
    "# Show the plot\n",
    "fig.show()"
   ]
  },
  {
   "cell_type": "code",
   "execution_count": 7,
   "metadata": {},
   "outputs": [],
   "source": [
    "# todo plot foot traffic per month/week"
   ]
  },
  {
   "cell_type": "markdown",
   "metadata": {},
   "source": [
    "see if there are any trends in item and time of year\n",
    "\n",
    "---"
   ]
  },
  {
   "cell_type": "code",
   "execution_count": 210,
   "metadata": {},
   "outputs": [
    {
     "data": {
      "text/html": [
       "<div>\n",
       "<style scoped>\n",
       "    .dataframe tbody tr th:only-of-type {\n",
       "        vertical-align: middle;\n",
       "    }\n",
       "\n",
       "    .dataframe tbody tr th {\n",
       "        vertical-align: top;\n",
       "    }\n",
       "\n",
       "    .dataframe thead th {\n",
       "        text-align: right;\n",
       "    }\n",
       "</style>\n",
       "<table border=\"1\" class=\"dataframe\">\n",
       "  <thead>\n",
       "    <tr style=\"text-align: right;\">\n",
       "      <th></th>\n",
       "      <th>Item</th>\n",
       "      <th>Qty</th>\n",
       "      <th>Datetime</th>\n",
       "      <th>Hour</th>\n",
       "      <th>Date</th>\n",
       "    </tr>\n",
       "  </thead>\n",
       "  <tbody>\n",
       "    <tr>\n",
       "      <th>0</th>\n",
       "      <td>Drink 2 - Cold Brew - FM</td>\n",
       "      <td>1.0</td>\n",
       "      <td>2023-10-28 11:41:41</td>\n",
       "      <td>11</td>\n",
       "      <td>2023-10-28</td>\n",
       "    </tr>\n",
       "    <tr>\n",
       "      <th>1</th>\n",
       "      <td>Croissant - Pain Au Chocolat - FM</td>\n",
       "      <td>1.0</td>\n",
       "      <td>2023-10-28 11:40:39</td>\n",
       "      <td>11</td>\n",
       "      <td>2023-10-28</td>\n",
       "    </tr>\n",
       "    <tr>\n",
       "      <th>2</th>\n",
       "      <td>Croissant - Pumpkin Croissant - FM</td>\n",
       "      <td>1.0</td>\n",
       "      <td>2023-10-28 11:40:39</td>\n",
       "      <td>11</td>\n",
       "      <td>2023-10-28</td>\n",
       "    </tr>\n",
       "    <tr>\n",
       "      <th>3</th>\n",
       "      <td>Croissant - Pumpkin Croissant - FM</td>\n",
       "      <td>1.0</td>\n",
       "      <td>2023-10-28 11:34:11</td>\n",
       "      <td>11</td>\n",
       "      <td>2023-10-28</td>\n",
       "    </tr>\n",
       "    <tr>\n",
       "      <th>4</th>\n",
       "      <td>Croissant - Pain Au Chocolat - FM</td>\n",
       "      <td>1.0</td>\n",
       "      <td>2023-10-28 11:33:24</td>\n",
       "      <td>11</td>\n",
       "      <td>2023-10-28</td>\n",
       "    </tr>\n",
       "  </tbody>\n",
       "</table>\n",
       "</div>"
      ],
      "text/plain": [
       "                                 Item  Qty            Datetime  Hour  \\\n",
       "0            Drink 2 - Cold Brew - FM  1.0 2023-10-28 11:41:41    11   \n",
       "1   Croissant - Pain Au Chocolat - FM  1.0 2023-10-28 11:40:39    11   \n",
       "2  Croissant - Pumpkin Croissant - FM  1.0 2023-10-28 11:40:39    11   \n",
       "3  Croissant - Pumpkin Croissant - FM  1.0 2023-10-28 11:34:11    11   \n",
       "4   Croissant - Pain Au Chocolat - FM  1.0 2023-10-28 11:33:24    11   \n",
       "\n",
       "         Date  \n",
       "0  2023-10-28  \n",
       "1  2023-10-28  \n",
       "2  2023-10-28  \n",
       "3  2023-10-28  \n",
       "4  2023-10-28  "
      ]
     },
     "execution_count": 210,
     "metadata": {},
     "output_type": "execute_result"
    }
   ],
   "source": [
    "sales_dataset.head()"
   ]
  },
  {
   "cell_type": "code",
   "execution_count": 8,
   "metadata": {},
   "outputs": [
    {
     "data": {
      "text/plain": [
       "68"
      ]
     },
     "execution_count": 8,
     "metadata": {},
     "output_type": "execute_result"
    }
   ],
   "source": [
    "len(sales_dataset.Item.unique())"
   ]
  },
  {
   "cell_type": "code",
   "execution_count": 56,
   "metadata": {},
   "outputs": [
    {
     "data": {
      "text/plain": [
       "68"
      ]
     },
     "execution_count": 56,
     "metadata": {},
     "output_type": "execute_result"
    }
   ],
   "source": [
    "len(sales_dataset.Item.unique())"
   ]
  },
  {
   "cell_type": "code",
   "execution_count": null,
   "metadata": {},
   "outputs": [],
   "source": []
  },
  {
   "cell_type": "code",
   "execution_count": 10,
   "metadata": {},
   "outputs": [
    {
     "data": {
      "text/plain": [
       "Item\n",
       "4 pack hop water - FM                        39\n",
       "Almond Croissant - FM                       454\n",
       "Baguette - FM                                42\n",
       "Banana Bread w. Walnuts - FM                124\n",
       "Basil & Raspberry Canele - FM                11\n",
       "Basil & Raspberry Canele1 - FM               90\n",
       "Berry Croissant                             230\n",
       "Berry Croissant - FM                        499\n",
       "Blueberry Danish - FM                        19\n",
       "Blueberry Mint Croissant - FM               114\n",
       "Butter Croissant - FM                       647\n",
       "Canele - Earl Grey - FM                      17\n",
       "Canele - Vanilla - FM                        24\n",
       "Chocohaz Coffee Croissant - FM               88\n",
       "Chocolate & Cherry Danish - FM                7\n",
       "Chocolate Baid                                5\n",
       "Cold Brew - FM                              535\n",
       "Croissant - Almond - FM                     504\n",
       "Croissant - Butter - FM                     566\n",
       "Croissant - Cinnamon Sugar Sticks - FM      141\n",
       "Croissant - Coffee & Macadamia - FM         240\n",
       "Croissant - Cube - FM                       161\n",
       "Croissant - Pain Au Chocolat - FM           509\n",
       "Croissant - Pain Au Raisin - FM             171\n",
       "Croissant - Pumpkin Croissant - FM          104\n",
       "Croissant - Rose & Lychee Croissant - FM     19\n",
       "Croissant - Ube & Strawberry - FM           283\n",
       "Croissant Cube - FM                          47\n",
       "Croissant Sticks - FM                        12\n",
       "Croissant Sticks Combo - FM                  13\n",
       "Croissant- Coffee & Macadamia - FM           53\n",
       "Custom Amount                                 3\n",
       "Danish - Blueberry - FM                     118\n",
       "Danish - Citrus & Almond - FM                47\n",
       "Drink 1 - Drip Coffee - FM                  605\n",
       "Drink 2 - Cold Brew - FM                    776\n",
       "Drink 3 - Mango Black Tea - FM              395\n",
       "Drink 4 - Hibiscus Tea - FM                  45\n",
       "Drink 4 - Strawberry Lemonade - FM          325\n",
       "Drink 4 - Strawberry Lemonade- FM            46\n",
       "Drink 5 -Hibiscus - FM                       95\n",
       "Drink 6 - Hot Chocolate - FM                  8\n",
       "Drip Coffee - FM                            463\n",
       "Everything Kouign Amann - FM                 83\n",
       "Flavored Lemonade - FM                      626\n",
       "Ginger Ale                                    3\n",
       "Hop Water - FM                              129\n",
       "Iced Teas - FM                              775\n",
       "KA - Cayenne - FM                            24\n",
       "KA - Everything - FM                        145\n",
       "KA - Original - FM                          216\n",
       "Kouign Amann - FM                           248\n",
       "Muffin - Guilt Free - FM                    156\n",
       "Orange & Almond Danish                        9\n",
       "Pain Au Chocolat - FM                       623\n",
       "Pain Aux Raisin                              11\n",
       "Pain Aux Raisin - FM                        158\n",
       "Palmier - FM                                 10\n",
       "Pandan Coconut Roll - FM                    126\n",
       "Pastel De Nata - FM                          17\n",
       "Pear & Strawberry Bostock - FM              144\n",
       "Pistachio Croissant - FM                    439\n",
       "Root Beer                                     4\n",
       "Soda - FM                                    26\n",
       "Strawberry Mini Bite - FM                     5\n",
       "Sugar Sticks - FM                           164\n",
       "Ube & Strawberry Croissant - FM             474\n",
       "Vanilla Canele - FM                         125\n",
       "Name: Qty, dtype: int64"
      ]
     },
     "execution_count": 10,
     "metadata": {},
     "output_type": "execute_result"
    }
   ],
   "source": [
    "pd.set_option('display.max_rows', None)\n",
    "(sales_dataset.groupby(\"Item\")['Qty'].sum().astype(int))"
   ]
  },
  {
   "cell_type": "code",
   "execution_count": null,
   "metadata": {},
   "outputs": [],
   "source": [
    "import matplotlib.pyplot as plt\n",
    "import seaborn as sns\n",
    "\n",
    "# Aggregate the total quantity sold for each item\n",
    "df_item_sales = df.groupby('Item', as_index=False)['Qty'].sum()\n",
    "\n",
    "# Sort by quantity sold and take the top 10 items\n",
    "df_top_items = df_item_sales.sort_values(by='Qty', ascending=False).head(10)\n",
    "\n",
    "# Plot the histogram (bar chart)\n",
    "plt.figure(figsize=(12, 6))\n",
    "sns.barplot(data=df_top_items, x='Item', y='Qty', palette='viridis')\n",
    "\n",
    "# Rotate x-axis labels for better readability\n",
    "plt.xticks(rotation=45, ha='right')\n",
    "\n",
    "# Labels and title\n",
    "plt.xlabel(\"Item\")\n",
    "plt.ylabel(\"Total Quantity Sold\")\n",
    "plt.title(\"Top 10 Best-Selling Items\")\n",
    "\n",
    "# Show the plot\n",
    "plt.show()\n"
   ]
  },
  {
   "cell_type": "code",
   "execution_count": 11,
   "metadata": {},
   "outputs": [],
   "source": [
    "# use some id to see what items are bought together"
   ]
  },
  {
   "cell_type": "code",
   "execution_count": 60,
   "metadata": {},
   "outputs": [
    {
     "name": "stderr",
     "output_type": "stream",
     "text": [
      "/var/folders/5j/n4969jd10ljgjmh7w8w2w_h40000gn/T/ipykernel_31713/3336484449.py:12: FutureWarning:\n",
      "\n",
      "\n",
      "\n",
      "Passing `palette` without assigning `hue` is deprecated and will be removed in v0.14.0. Assign the `x` variable to `hue` and set `legend=False` for the same effect.\n",
      "\n",
      "\n"
     ]
    },
    {
     "data": {
      "image/png": "[encoded data removed]",
      "text/plain": [
       "<Figure size 864x432 with 1 Axes>"
      ]
     },
     "metadata": {
      "needs_background": "light"
     },
     "output_type": "display_data"
    }
   ],
   "source": [
    "import matplotlib.pyplot as plt\n",
    "import seaborn as sns\n",
    "\n",
    "# Aggregate the total quantity sold for each item\n",
    "df_item_sales = sales_dataset.groupby('Item', as_index=False)['Qty'].sum()\n",
    "\n",
    "# Sort by quantity sold and take the top 10 items\n",
    "df_top_items = df_item_sales.sort_values(by='Qty', ascending=False)\n",
    "\n",
    "# Plot the histogram (bar chart)\n",
    "plt.figure(figsize=(12, 6))\n",
    "sns.barplot(data=df_top_items, x='Item', y='Qty', palette='viridis')\n",
    "\n",
    "# Rotate x-axis labels for better readability\n",
    "plt.xticks(rotation=45, ha='right')\n",
    "\n",
    "# Labels and title\n",
    "plt.xlabel(\"Item\")\n",
    "plt.ylabel(\"Total Quantity Sold\")\n",
    "plt.title(\"Top 25 Best-Selling Items\")\n",
    "\n",
    "# Show the plot\n",
    "plt.show()\n"
   ]
  },
  {
   "cell_type": "code",
   "execution_count": null,
   "metadata": {},
   "outputs": [],
   "source": [
    "# sales_dataset = sales_dataset.drop([\"Week\", \"Week_TimeStamp\"], axis=1)\n",
    "# sales_dataset.to_csv(\"output.csv\", index=False)"
   ]
  },
  {
   "cell_type": "markdown",
   "metadata": {},
   "source": [
    "incorporate foot traffic\n",
    "\n",
    "---"
   ]
  },
  {
   "cell_type": "code",
   "execution_count": 26,
   "metadata": {},
   "outputs": [],
   "source": [
    "ft_dataset = pd.read_csv(\"og_foot_traffic_2324.csv\")"
   ]
  },
  {
   "cell_type": "code",
   "execution_count": 27,
   "metadata": {},
   "outputs": [
    {
     "data": {
      "text/html": [
       "<div>\n",
       "<style scoped>\n",
       "    .dataframe tbody tr th:only-of-type {\n",
       "        vertical-align: middle;\n",
       "    }\n",
       "\n",
       "    .dataframe tbody tr th {\n",
       "        vertical-align: top;\n",
       "    }\n",
       "\n",
       "    .dataframe thead th {\n",
       "        text-align: right;\n",
       "    }\n",
       "</style>\n",
       "<table border=\"1\" class=\"dataframe\">\n",
       "  <thead>\n",
       "    <tr style=\"text-align: right;\">\n",
       "      <th></th>\n",
       "      <th>Date</th>\n",
       "      <th>7:00 AM</th>\n",
       "      <th>8:00 AM</th>\n",
       "      <th>9:00 AM</th>\n",
       "      <th>10:00 AM</th>\n",
       "      <th>11:00 AM</th>\n",
       "    </tr>\n",
       "  </thead>\n",
       "  <tbody>\n",
       "    <tr>\n",
       "      <th>0</th>\n",
       "      <td>5/6/23</td>\n",
       "      <td>304</td>\n",
       "      <td>340</td>\n",
       "      <td>490</td>\n",
       "      <td>491</td>\n",
       "      <td>574</td>\n",
       "    </tr>\n",
       "    <tr>\n",
       "      <th>1</th>\n",
       "      <td>5/13/23</td>\n",
       "      <td>255</td>\n",
       "      <td>466</td>\n",
       "      <td>515</td>\n",
       "      <td>511</td>\n",
       "      <td>701</td>\n",
       "    </tr>\n",
       "    <tr>\n",
       "      <th>2</th>\n",
       "      <td>5/20/23</td>\n",
       "      <td>400</td>\n",
       "      <td>806</td>\n",
       "      <td>1010</td>\n",
       "      <td>924</td>\n",
       "      <td>652</td>\n",
       "    </tr>\n",
       "    <tr>\n",
       "      <th>3</th>\n",
       "      <td>5/27/23</td>\n",
       "      <td>348</td>\n",
       "      <td>503</td>\n",
       "      <td>843</td>\n",
       "      <td>1293</td>\n",
       "      <td>860</td>\n",
       "    </tr>\n",
       "    <tr>\n",
       "      <th>4</th>\n",
       "      <td>6/3/23</td>\n",
       "      <td>479</td>\n",
       "      <td>841</td>\n",
       "      <td>893</td>\n",
       "      <td>823</td>\n",
       "      <td>680</td>\n",
       "    </tr>\n",
       "  </tbody>\n",
       "</table>\n",
       "</div>"
      ],
      "text/plain": [
       "      Date  7:00 AM  8:00 AM  9:00 AM  10:00 AM  11:00 AM\n",
       "0   5/6/23      304      340      490       491       574\n",
       "1  5/13/23      255      466      515       511       701\n",
       "2  5/20/23      400      806     1010       924       652\n",
       "3  5/27/23      348      503      843      1293       860\n",
       "4   6/3/23      479      841      893       823       680"
      ]
     },
     "execution_count": 27,
     "metadata": {},
     "output_type": "execute_result"
    }
   ],
   "source": [
    "ft_dataset.head()"
   ]
  },
  {
   "cell_type": "code",
   "execution_count": 28,
   "metadata": {},
   "outputs": [],
   "source": [
    "ft_dataset = ft_dataset.melt(id_vars=[\"Date\"], var_name=\"Time\", value_name=\"Traffic\")\n",
    "\n",
    "ft_dataset[\"Datetime\"] = pd.to_datetime(ft_dataset[\"Date\"] + \" \" + ft_dataset[\"Time\"])\n",
    "ft_dataset = ft_dataset.drop(columns=[\"Date\", \"Time\"])"
   ]
  },
  {
   "cell_type": "code",
   "execution_count": 29,
   "metadata": {},
   "outputs": [
    {
     "data": {
      "text/html": [
       "<div>\n",
       "<style scoped>\n",
       "    .dataframe tbody tr th:only-of-type {\n",
       "        vertical-align: middle;\n",
       "    }\n",
       "\n",
       "    .dataframe tbody tr th {\n",
       "        vertical-align: top;\n",
       "    }\n",
       "\n",
       "    .dataframe thead th {\n",
       "        text-align: right;\n",
       "    }\n",
       "</style>\n",
       "<table border=\"1\" class=\"dataframe\">\n",
       "  <thead>\n",
       "    <tr style=\"text-align: right;\">\n",
       "      <th></th>\n",
       "      <th>Date</th>\n",
       "      <th>Time</th>\n",
       "      <th>Item</th>\n",
       "      <th>Qty</th>\n",
       "      <th>Datetime</th>\n",
       "      <th>Hour</th>\n",
       "    </tr>\n",
       "  </thead>\n",
       "  <tbody>\n",
       "    <tr>\n",
       "      <th>0</th>\n",
       "      <td>2023-10-28</td>\n",
       "      <td>11:41:41</td>\n",
       "      <td>Drink 2 - Cold Brew - FM</td>\n",
       "      <td>1.0</td>\n",
       "      <td>2023-10-28 11:41:41</td>\n",
       "      <td>11</td>\n",
       "    </tr>\n",
       "    <tr>\n",
       "      <th>1</th>\n",
       "      <td>2023-10-28</td>\n",
       "      <td>11:40:39</td>\n",
       "      <td>Croissant - Pain Au Chocolat - FM</td>\n",
       "      <td>1.0</td>\n",
       "      <td>2023-10-28 11:40:39</td>\n",
       "      <td>11</td>\n",
       "    </tr>\n",
       "    <tr>\n",
       "      <th>2</th>\n",
       "      <td>2023-10-28</td>\n",
       "      <td>11:40:39</td>\n",
       "      <td>Croissant - Pumpkin Croissant - FM</td>\n",
       "      <td>1.0</td>\n",
       "      <td>2023-10-28 11:40:39</td>\n",
       "      <td>11</td>\n",
       "    </tr>\n",
       "    <tr>\n",
       "      <th>3</th>\n",
       "      <td>2023-10-28</td>\n",
       "      <td>11:34:11</td>\n",
       "      <td>Croissant - Pumpkin Croissant - FM</td>\n",
       "      <td>1.0</td>\n",
       "      <td>2023-10-28 11:34:11</td>\n",
       "      <td>11</td>\n",
       "    </tr>\n",
       "    <tr>\n",
       "      <th>4</th>\n",
       "      <td>2023-10-28</td>\n",
       "      <td>11:33:24</td>\n",
       "      <td>Croissant - Pain Au Chocolat - FM</td>\n",
       "      <td>1.0</td>\n",
       "      <td>2023-10-28 11:33:24</td>\n",
       "      <td>11</td>\n",
       "    </tr>\n",
       "  </tbody>\n",
       "</table>\n",
       "</div>"
      ],
      "text/plain": [
       "         Date      Time                                Item  Qty  \\\n",
       "0  2023-10-28  11:41:41            Drink 2 - Cold Brew - FM  1.0   \n",
       "1  2023-10-28  11:40:39   Croissant - Pain Au Chocolat - FM  1.0   \n",
       "2  2023-10-28  11:40:39  Croissant - Pumpkin Croissant - FM  1.0   \n",
       "3  2023-10-28  11:34:11  Croissant - Pumpkin Croissant - FM  1.0   \n",
       "4  2023-10-28  11:33:24   Croissant - Pain Au Chocolat - FM  1.0   \n",
       "\n",
       "             Datetime  Hour  \n",
       "0 2023-10-28 11:41:41    11  \n",
       "1 2023-10-28 11:40:39    11  \n",
       "2 2023-10-28 11:40:39    11  \n",
       "3 2023-10-28 11:34:11    11  \n",
       "4 2023-10-28 11:33:24    11  "
      ]
     },
     "execution_count": 29,
     "metadata": {},
     "output_type": "execute_result"
    }
   ],
   "source": [
    "sales_dataset.head()"
   ]
  },
  {
   "cell_type": "code",
   "execution_count": 30,
   "metadata": {},
   "outputs": [
    {
     "data": {
      "text/html": [
       "<div>\n",
       "<style scoped>\n",
       "    .dataframe tbody tr th:only-of-type {\n",
       "        vertical-align: middle;\n",
       "    }\n",
       "\n",
       "    .dataframe tbody tr th {\n",
       "        vertical-align: top;\n",
       "    }\n",
       "\n",
       "    .dataframe thead th {\n",
       "        text-align: right;\n",
       "    }\n",
       "</style>\n",
       "<table border=\"1\" class=\"dataframe\">\n",
       "  <thead>\n",
       "    <tr style=\"text-align: right;\">\n",
       "      <th></th>\n",
       "      <th>Traffic</th>\n",
       "      <th>Datetime</th>\n",
       "    </tr>\n",
       "  </thead>\n",
       "  <tbody>\n",
       "    <tr>\n",
       "      <th>0</th>\n",
       "      <td>304</td>\n",
       "      <td>2023-05-06 07:00:00</td>\n",
       "    </tr>\n",
       "    <tr>\n",
       "      <th>1</th>\n",
       "      <td>255</td>\n",
       "      <td>2023-05-13 07:00:00</td>\n",
       "    </tr>\n",
       "    <tr>\n",
       "      <th>2</th>\n",
       "      <td>400</td>\n",
       "      <td>2023-05-20 07:00:00</td>\n",
       "    </tr>\n",
       "    <tr>\n",
       "      <th>3</th>\n",
       "      <td>348</td>\n",
       "      <td>2023-05-27 07:00:00</td>\n",
       "    </tr>\n",
       "    <tr>\n",
       "      <th>4</th>\n",
       "      <td>479</td>\n",
       "      <td>2023-06-03 07:00:00</td>\n",
       "    </tr>\n",
       "  </tbody>\n",
       "</table>\n",
       "</div>"
      ],
      "text/plain": [
       "   Traffic            Datetime\n",
       "0      304 2023-05-06 07:00:00\n",
       "1      255 2023-05-13 07:00:00\n",
       "2      400 2023-05-20 07:00:00\n",
       "3      348 2023-05-27 07:00:00\n",
       "4      479 2023-06-03 07:00:00"
      ]
     },
     "execution_count": 30,
     "metadata": {},
     "output_type": "execute_result"
    }
   ],
   "source": [
    "ft_dataset.head()"
   ]
  },
  {
   "cell_type": "code",
   "execution_count": 31,
   "metadata": {},
   "outputs": [],
   "source": [
    "ft_dataset.to_csv(\"cleaned_ft_2324.csv\", index=False)"
   ]
  },
  {
   "cell_type": "code",
   "execution_count": 32,
   "metadata": {},
   "outputs": [],
   "source": [
    "sales_dataset['Hour'] = sales_dataset['Datetime'].dt.hour\n",
    "ft_dataset['Hour'] = ft_dataset['Datetime'].dt.hour\n",
    "\n",
    "sales_dataset['Date'] = sales_dataset['Datetime'].dt.date\n",
    "ft_dataset['Date'] = ft_dataset['Datetime'].dt.date"
   ]
  },
  {
   "cell_type": "code",
   "execution_count": 33,
   "metadata": {},
   "outputs": [],
   "source": [
    "combined_dataset = pd.merge(sales_dataset, ft_dataset[['Date', 'Hour', 'Traffic']], on=['Date', 'Hour'], how='left')"
   ]
  },
  {
   "cell_type": "code",
   "execution_count": 34,
   "metadata": {},
   "outputs": [
    {
     "name": "stdout",
     "output_type": "stream",
     "text": [
      "             Date      Time                                 Item  Qty  \\\n",
      "603    2023-10-07  06:59:34                        Baguette - FM  1.0   \n",
      "1932   2023-09-09  06:51:37           Drink 1 - Drip Coffee - FM  1.0   \n",
      "2174   2023-08-05  06:59:24           Drink 1 - Drip Coffee - FM  1.0   \n",
      "2175   2023-08-05  06:55:50                      Berry Croissant  1.0   \n",
      "2176   2023-08-05  06:55:50  Croissant - Coffee & Macadamia - FM  1.0   \n",
      "2491   2023-07-29  06:56:28    Croissant - Pain Au Chocolat - FM  1.0   \n",
      "2492   2023-07-29  06:53:35                Croissant - Cube - FM  1.0   \n",
      "3638   2023-06-20  08:07:15           Drink 1 - Drip Coffee - FM  2.0   \n",
      "3639   2023-06-17  12:00:37              Croissant - Almond - FM  1.0   \n",
      "4455   2023-06-10  06:58:03                   KA - Original - FM  2.0   \n",
      "4456   2023-06-10  06:48:35           Drink 1 - Drip Coffee - FM  1.0   \n",
      "5876   2024-10-19  12:00:31                Almond Croissant - FM  1.0   \n",
      "6094   2024-10-19  06:56:59                     Drip Coffee - FM  1.0   \n",
      "6988   2024-09-14  06:59:55             Pandan Coconut Roll - FM  1.0   \n",
      "7268   2024-09-07  06:55:38       Chocohaz Coffee Croissant - FM  1.0   \n",
      "7269   2024-09-07  06:55:38                Butter Croissant - FM  1.0   \n",
      "7270   2024-09-07  06:55:38       Pear & Strawberry Bostock - FM  2.0   \n",
      "8204   2024-08-10  06:59:20                    Kouign Amann - FM  1.0   \n",
      "8205   2024-08-10  06:58:47                     Drip Coffee - FM  1.0   \n",
      "8206   2024-08-10  06:50:58      Ube & Strawberry Croissant - FM  1.0   \n",
      "8207   2024-08-10  06:50:58                    Kouign Amann - FM  1.0   \n",
      "8208   2024-08-10  06:47:20                    Kouign Amann - FM  1.0   \n",
      "8835   2024-07-27  06:59:36                     Drip Coffee - FM  1.0   \n",
      "8836   2024-07-27  06:58:09                       Cold Brew - FM  2.0   \n",
      "9154   2024-07-20  06:58:58                     Drip Coffee - FM  1.0   \n",
      "9155   2024-07-20  06:58:06                Butter Croissant - FM  1.0   \n",
      "9156   2024-07-20  06:56:41                     Drip Coffee - FM  2.0   \n",
      "9469   2024-07-13  06:59:23                       Iced Teas - FM  1.0   \n",
      "9470   2024-07-13  06:57:19                Butter Croissant - FM  2.0   \n",
      "9804   2024-07-06  06:51:26                       Cold Brew - FM  1.0   \n",
      "9805   2024-07-06  06:51:26                Butter Croissant - FM  1.0   \n",
      "10111  2024-06-29  06:29:45                     Drip Coffee - FM  1.0   \n",
      "10457  2024-06-22  06:54:18                       Cold Brew - FM  1.0   \n",
      "10458  2024-06-22  06:54:18                Butter Croissant - FM  1.0   \n",
      "10459  2024-06-22  06:50:49                Pain Au Chocolat - FM  1.0   \n",
      "10460  2024-06-22  06:50:49                     Drip Coffee - FM  1.0   \n",
      "10779  2024-06-15  06:51:27                       Iced Teas - FM  1.0   \n",
      "10780  2024-06-15  06:51:27                Butter Croissant - FM  1.0   \n",
      "\n",
      "                 Datetime  Hour  Traffic  \n",
      "603   2023-10-07 06:59:34     6      NaN  \n",
      "1932  2023-09-09 06:51:37     6      NaN  \n",
      "2174  2023-08-05 06:59:24     6      NaN  \n",
      "2175  2023-08-05 06:55:50     6      NaN  \n",
      "2176  2023-08-05 06:55:50     6      NaN  \n",
      "2491  2023-07-29 06:56:28     6      NaN  \n",
      "2492  2023-07-29 06:53:35     6      NaN  \n",
      "3638  2023-06-20 08:07:15     8      NaN  \n",
      "3639  2023-06-17 12:00:37    12      NaN  \n",
      "4455  2023-06-10 06:58:03     6      NaN  \n",
      "4456  2023-06-10 06:48:35     6      NaN  \n",
      "5876  2024-10-19 12:00:31    12      NaN  \n",
      "6094  2024-10-19 06:56:59     6      NaN  \n",
      "6988  2024-09-14 06:59:55     6      NaN  \n",
      "7268  2024-09-07 06:55:38     6      NaN  \n",
      "7269  2024-09-07 06:55:38     6      NaN  \n",
      "7270  2024-09-07 06:55:38     6      NaN  \n",
      "8204  2024-08-10 06:59:20     6      NaN  \n",
      "8205  2024-08-10 06:58:47     6      NaN  \n",
      "8206  2024-08-10 06:50:58     6      NaN  \n",
      "8207  2024-08-10 06:50:58     6      NaN  \n",
      "8208  2024-08-10 06:47:20     6      NaN  \n",
      "8835  2024-07-27 06:59:36     6      NaN  \n",
      "8836  2024-07-27 06:58:09     6      NaN  \n",
      "9154  2024-07-20 06:58:58     6      NaN  \n",
      "9155  2024-07-20 06:58:06     6      NaN  \n",
      "9156  2024-07-20 06:56:41     6      NaN  \n",
      "9469  2024-07-13 06:59:23     6      NaN  \n",
      "9470  2024-07-13 06:57:19     6      NaN  \n",
      "9804  2024-07-06 06:51:26     6      NaN  \n",
      "9805  2024-07-06 06:51:26     6      NaN  \n",
      "10111 2024-06-29 06:29:45     6      NaN  \n",
      "10457 2024-06-22 06:54:18     6      NaN  \n",
      "10458 2024-06-22 06:54:18     6      NaN  \n",
      "10459 2024-06-22 06:50:49     6      NaN  \n",
      "10460 2024-06-22 06:50:49     6      NaN  \n",
      "10779 2024-06-15 06:51:27     6      NaN  \n",
      "10780 2024-06-15 06:51:27     6      NaN  \n"
     ]
    }
   ],
   "source": [
    "df_nulls = combined_dataset[combined_dataset.isna().any(axis=1)]\n",
    "\n",
    "# Display the rows with null values\n",
    "print(df_nulls)"
   ]
  },
  {
   "cell_type": "code",
   "execution_count": null,
   "metadata": {},
   "outputs": [],
   "source": []
  },
  {
   "cell_type": "code",
   "execution_count": 35,
   "metadata": {},
   "outputs": [
    {
     "data": {
      "text/plain": [
       "38"
      ]
     },
     "execution_count": 35,
     "metadata": {},
     "output_type": "execute_result"
    }
   ],
   "source": [
    "combined_dataset.isna().any(axis=1).sum()"
   ]
  },
  {
   "cell_type": "code",
   "execution_count": 36,
   "metadata": {},
   "outputs": [],
   "source": [
    "mask = (combined_dataset['Datetime'].dt.hour == 6)\n",
    "traffic_table_7am = (combined_dataset[combined_dataset['Hour'] == 7]).drop_duplicates(subset=['Date'])\n",
    "combined_dataset.loc[mask, 'Traffic'] = combined_dataset.loc[mask, 'Date'].map(traffic_table_7am.set_index('Date')['Traffic'])"
   ]
  },
  {
   "cell_type": "code",
   "execution_count": 38,
   "metadata": {},
   "outputs": [],
   "source": [
    "mask = (combined_dataset['Datetime'].dt.hour == 12)\n",
    "traffic_table_11am = (combined_dataset[combined_dataset['Hour'] == 11]).drop_duplicates(subset=['Date'])\n",
    "combined_dataset.loc[mask, 'Traffic'] = combined_dataset.loc[mask, 'Date'].map(traffic_table_11am.set_index('Date')['Traffic'])"
   ]
  },
  {
   "cell_type": "code",
   "execution_count": 39,
   "metadata": {},
   "outputs": [
    {
     "name": "stdout",
     "output_type": "stream",
     "text": [
      "            Date      Time                        Item  Qty  \\\n",
      "3638  2023-06-20  08:07:15  Drink 1 - Drip Coffee - FM  2.0   \n",
      "\n",
      "                Datetime  Hour  Traffic  \n",
      "3638 2023-06-20 08:07:15     8      NaN  \n"
     ]
    }
   ],
   "source": [
    "df_nulls = combined_dataset[combined_dataset.isna().any(axis=1)]\n",
    "\n",
    "# Display the rows with null values\n",
    "print(df_nulls)"
   ]
  },
  {
   "cell_type": "code",
   "execution_count": 40,
   "metadata": {},
   "outputs": [],
   "source": [
    "combined_dataset.dropna(inplace=True)"
   ]
  },
  {
   "cell_type": "code",
   "execution_count": 41,
   "metadata": {},
   "outputs": [
    {
     "data": {
      "text/html": [
       "<div>\n",
       "<style scoped>\n",
       "    .dataframe tbody tr th:only-of-type {\n",
       "        vertical-align: middle;\n",
       "    }\n",
       "\n",
       "    .dataframe tbody tr th {\n",
       "        vertical-align: top;\n",
       "    }\n",
       "\n",
       "    .dataframe thead th {\n",
       "        text-align: right;\n",
       "    }\n",
       "</style>\n",
       "<table border=\"1\" class=\"dataframe\">\n",
       "  <thead>\n",
       "    <tr style=\"text-align: right;\">\n",
       "      <th></th>\n",
       "      <th>Date</th>\n",
       "      <th>Time</th>\n",
       "      <th>Item</th>\n",
       "      <th>Qty</th>\n",
       "      <th>Datetime</th>\n",
       "      <th>Hour</th>\n",
       "      <th>Traffic</th>\n",
       "    </tr>\n",
       "  </thead>\n",
       "  <tbody>\n",
       "    <tr>\n",
       "      <th>0</th>\n",
       "      <td>2023-10-28</td>\n",
       "      <td>11:41:41</td>\n",
       "      <td>Drink 2 - Cold Brew - FM</td>\n",
       "      <td>1.0</td>\n",
       "      <td>2023-10-28 11:41:41</td>\n",
       "      <td>11</td>\n",
       "      <td>432.0</td>\n",
       "    </tr>\n",
       "    <tr>\n",
       "      <th>1</th>\n",
       "      <td>2023-10-28</td>\n",
       "      <td>11:40:39</td>\n",
       "      <td>Croissant - Pain Au Chocolat - FM</td>\n",
       "      <td>1.0</td>\n",
       "      <td>2023-10-28 11:40:39</td>\n",
       "      <td>11</td>\n",
       "      <td>432.0</td>\n",
       "    </tr>\n",
       "    <tr>\n",
       "      <th>2</th>\n",
       "      <td>2023-10-28</td>\n",
       "      <td>11:40:39</td>\n",
       "      <td>Croissant - Pumpkin Croissant - FM</td>\n",
       "      <td>1.0</td>\n",
       "      <td>2023-10-28 11:40:39</td>\n",
       "      <td>11</td>\n",
       "      <td>432.0</td>\n",
       "    </tr>\n",
       "    <tr>\n",
       "      <th>3</th>\n",
       "      <td>2023-10-28</td>\n",
       "      <td>11:34:11</td>\n",
       "      <td>Croissant - Pumpkin Croissant - FM</td>\n",
       "      <td>1.0</td>\n",
       "      <td>2023-10-28 11:34:11</td>\n",
       "      <td>11</td>\n",
       "      <td>432.0</td>\n",
       "    </tr>\n",
       "    <tr>\n",
       "      <th>4</th>\n",
       "      <td>2023-10-28</td>\n",
       "      <td>11:33:24</td>\n",
       "      <td>Croissant - Pain Au Chocolat - FM</td>\n",
       "      <td>1.0</td>\n",
       "      <td>2023-10-28 11:33:24</td>\n",
       "      <td>11</td>\n",
       "      <td>432.0</td>\n",
       "    </tr>\n",
       "  </tbody>\n",
       "</table>\n",
       "</div>"
      ],
      "text/plain": [
       "         Date      Time                                Item  Qty  \\\n",
       "0  2023-10-28  11:41:41            Drink 2 - Cold Brew - FM  1.0   \n",
       "1  2023-10-28  11:40:39   Croissant - Pain Au Chocolat - FM  1.0   \n",
       "2  2023-10-28  11:40:39  Croissant - Pumpkin Croissant - FM  1.0   \n",
       "3  2023-10-28  11:34:11  Croissant - Pumpkin Croissant - FM  1.0   \n",
       "4  2023-10-28  11:33:24   Croissant - Pain Au Chocolat - FM  1.0   \n",
       "\n",
       "             Datetime  Hour  Traffic  \n",
       "0 2023-10-28 11:41:41    11    432.0  \n",
       "1 2023-10-28 11:40:39    11    432.0  \n",
       "2 2023-10-28 11:40:39    11    432.0  \n",
       "3 2023-10-28 11:34:11    11    432.0  \n",
       "4 2023-10-28 11:33:24    11    432.0  "
      ]
     },
     "execution_count": 41,
     "metadata": {},
     "output_type": "execute_result"
    }
   ],
   "source": [
    "combined_dataset.head()"
   ]
  },
  {
   "cell_type": "code",
   "execution_count": 42,
   "metadata": {},
   "outputs": [],
   "source": [
    "#combined_dataset = combined_dataset.drop(columns=['Date', 'Hour'])\n",
    "combined_dataset['Traffic'] = combined_dataset['Traffic'].astype(int)\n",
    "combined_dataset['Qty'] = combined_dataset['Qty'].astype(int)\n",
    "#combined_dataset.to_csv(\"combined_dataset_2324.csv\", index=False)"
   ]
  },
  {
   "cell_type": "code",
   "execution_count": 50,
   "metadata": {},
   "outputs": [],
   "source": [
    "df_sales_per_event = combined_dataset.groupby(['Traffic', 'Date', 'Hour']).size().reset_index(name='Number Items Sold')"
   ]
  },
  {
   "cell_type": "code",
   "execution_count": 51,
   "metadata": {},
   "outputs": [
    {
     "data": {
      "text/html": [
       "<div>\n",
       "<style scoped>\n",
       "    .dataframe tbody tr th:only-of-type {\n",
       "        vertical-align: middle;\n",
       "    }\n",
       "\n",
       "    .dataframe tbody tr th {\n",
       "        vertical-align: top;\n",
       "    }\n",
       "\n",
       "    .dataframe thead th {\n",
       "        text-align: right;\n",
       "    }\n",
       "</style>\n",
       "<table border=\"1\" class=\"dataframe\">\n",
       "  <thead>\n",
       "    <tr style=\"text-align: right;\">\n",
       "      <th></th>\n",
       "      <th>Traffic</th>\n",
       "      <th>Date</th>\n",
       "      <th>Hour</th>\n",
       "      <th>Number Items Sold</th>\n",
       "    </tr>\n",
       "  </thead>\n",
       "  <tbody>\n",
       "    <tr>\n",
       "      <th>0</th>\n",
       "      <td>184</td>\n",
       "      <td>2023-10-28</td>\n",
       "      <td>7</td>\n",
       "      <td>20</td>\n",
       "    </tr>\n",
       "    <tr>\n",
       "      <th>1</th>\n",
       "      <td>266</td>\n",
       "      <td>2023-10-28</td>\n",
       "      <td>8</td>\n",
       "      <td>38</td>\n",
       "    </tr>\n",
       "    <tr>\n",
       "      <th>2</th>\n",
       "      <td>280</td>\n",
       "      <td>2024-10-26</td>\n",
       "      <td>7</td>\n",
       "      <td>26</td>\n",
       "    </tr>\n",
       "    <tr>\n",
       "      <th>3</th>\n",
       "      <td>282</td>\n",
       "      <td>2023-10-07</td>\n",
       "      <td>6</td>\n",
       "      <td>1</td>\n",
       "    </tr>\n",
       "    <tr>\n",
       "      <th>4</th>\n",
       "      <td>282</td>\n",
       "      <td>2023-10-07</td>\n",
       "      <td>7</td>\n",
       "      <td>28</td>\n",
       "    </tr>\n",
       "  </tbody>\n",
       "</table>\n",
       "</div>"
      ],
      "text/plain": [
       "   Traffic        Date  Hour  Number Items Sold\n",
       "0      184  2023-10-28     7                 20\n",
       "1      266  2023-10-28     8                 38\n",
       "2      280  2024-10-26     7                 26\n",
       "3      282  2023-10-07     6                  1\n",
       "4      282  2023-10-07     7                 28"
      ]
     },
     "execution_count": 51,
     "metadata": {},
     "output_type": "execute_result"
    }
   ],
   "source": [
    "df_sales_per_event.head()"
   ]
  },
  {
   "cell_type": "code",
   "execution_count": 53,
   "metadata": {},
   "outputs": [
    {
     "name": "stdout",
     "output_type": "stream",
     "text": [
      "   Traffic  Number Items Sold\n",
      "0      184               20.0\n",
      "1      266               38.0\n",
      "2      280               26.0\n",
      "3      282               14.5\n",
      "4      286                6.0\n"
     ]
    }
   ],
   "source": [
    "df_avg_sales = df_sales_per_event.groupby('Traffic', as_index=False)['Number Items Sold'].mean()\n",
    "\n",
    "# Display the result\n",
    "print(df_avg_sales.head())\n"
   ]
  },
  {
   "cell_type": "code",
   "execution_count": 55,
   "metadata": {},
   "outputs": [
    {
     "data": {
      "application/vnd.plotly.v1+json": {
       "config": {
        "plotlyServerURL": "https://plot.ly"
       },
       "data": [
        {
         "hovertemplate": "Traffic=%{x}<br>Number Items Sold=%{y}<extra></extra>",
         "legendgroup": "",
         "line": {
          "color": "#636efa",
          "dash": "solid"
         },
         "marker": {
          "symbol": "circle"
         },
         "mode": "lines+markers",
         "name": "",
         "orientation": "v",
         "showlegend": false,
         "type": "scatter",
         "x": [
          184,
          266,
          280,
          282,
          286,
          291,
          325,
          348,
          354,
          397,
          400,
          421,
          424,
          426,
          432,
          449,
          451,
          464,
          473,
          474,
          479,
          480,
          481,
          485,
          487,
          493,
          503,
          505,
          512,
          516,
          528,
          547,
          548,
          556,
          559,
          562,
          564,
          565,
          580,
          587,
          590,
          592,
          593,
          595,
          598,
          605,
          610,
          621,
          623,
          628,
          636,
          646,
          650,
          652,
          660,
          663,
          664,
          671,
          678,
          680,
          685,
          689,
          692,
          700,
          704,
          726,
          728,
          743,
          750,
          772,
          774,
          779,
          783,
          784,
          790,
          794,
          806,
          814,
          816,
          817,
          821,
          823,
          825,
          836,
          837,
          841,
          843,
          850,
          859,
          860,
          865,
          866,
          884,
          891,
          893,
          895,
          896,
          905,
          909,
          912,
          916,
          920,
          922,
          924,
          928,
          931,
          938,
          943,
          957,
          968,
          982,
          990,
          1006,
          1010,
          1014,
          1016,
          1017,
          1018,
          1020,
          1031,
          1035,
          1036,
          1046,
          1052,
          1063,
          1064,
          1070,
          1075,
          1081,
          1093,
          1099,
          1112,
          1113,
          1117,
          1141,
          1143,
          1154,
          1155,
          1159,
          1167,
          1179,
          1186,
          1194,
          1205,
          1206,
          1216,
          1243,
          1244,
          1245,
          1258,
          1264,
          1271,
          1286,
          1287,
          1289,
          1291,
          1293,
          1298,
          1309,
          1343,
          1357,
          1361,
          1363,
          1373,
          1417,
          1418,
          1421,
          1424,
          1449,
          1457,
          1583,
          1618,
          1932,
          1943
         ],
         "xaxis": "x",
         "y": [
          20,
          38,
          26,
          14.5,
          6,
          14,
          32,
          61,
          28,
          61,
          44,
          56,
          33,
          87,
          31,
          34,
          35,
          61,
          35,
          34,
          51,
          19.5,
          30,
          64,
          29,
          32.5,
          95,
          25,
          49,
          27.666666666666668,
          22.5,
          40,
          36,
          44,
          64,
          18.5,
          26,
          24,
          38,
          27,
          21,
          86,
          54,
          29.5,
          63,
          23,
          22,
          22,
          63,
          55,
          36,
          31,
          25,
          7,
          63,
          2,
          40.333333333333336,
          22.5,
          84,
          30,
          48,
          35.666666666666664,
          53,
          105,
          116,
          17,
          31,
          8,
          60,
          27.5,
          69,
          57,
          70,
          88,
          98,
          14,
          108,
          17,
          101,
          67.5,
          75,
          76,
          36,
          20,
          121,
          129,
          130,
          51,
          89,
          64.5,
          145,
          102,
          54,
          62.5,
          63,
          85,
          65,
          89,
          1,
          20,
          86,
          90,
          31,
          79,
          68,
          48,
          80,
          54,
          83,
          38,
          49,
          46,
          67,
          132,
          75,
          99,
          89,
          30,
          73,
          46,
          37,
          83,
          86,
          25,
          83,
          54,
          2,
          93,
          90,
          27,
          83,
          85,
          114,
          30,
          82,
          16,
          102,
          106,
          48,
          48,
          70,
          70,
          82,
          127,
          113,
          100,
          48,
          80,
          91,
          61,
          108,
          62,
          92,
          111,
          89,
          70,
          110,
          87,
          71,
          100,
          77,
          75,
          74,
          60,
          93,
          122,
          109,
          71,
          127,
          95,
          84,
          98,
          105,
          38
         ],
         "yaxis": "y"
        }
       ],
       "layout": {
        "legend": {
         "tracegroupgap": 0
        },
        "template": {
         "data": {
          "bar": [
           {
            "error_x": {
             "color": "#2a3f5f"
            },
            "error_y": {
             "color": "#2a3f5f"
            },
            "marker": {
             "line": {
              "color": "#E5ECF6",
              "width": 0.5
             },
             "pattern": {
              "fillmode": "overlay",
              "size": 10,
              "solidity": 0.2
             }
            },
            "type": "bar"
           }
          ],
          "barpolar": [
           {
            "marker": {
             "line": {
              "color": "#E5ECF6",
              "width": 0.5
             },
             "pattern": {
              "fillmode": "overlay",
              "size": 10,
              "solidity": 0.2
             }
            },
            "type": "barpolar"
           }
          ],
          "carpet": [
           {
            "aaxis": {
             "endlinecolor": "#2a3f5f",
             "gridcolor": "white",
             "linecolor": "white",
             "minorgridcolor": "white",
             "startlinecolor": "#2a3f5f"
            },
            "baxis": {
             "endlinecolor": "#2a3f5f",
             "gridcolor": "white",
             "linecolor": "white",
             "minorgridcolor": "white",
             "startlinecolor": "#2a3f5f"
            },
            "type": "carpet"
           }
          ],
          "choropleth": [
           {
            "colorbar": {
             "outlinewidth": 0,
             "ticks": ""
            },
            "type": "choropleth"
           }
          ],
          "contour": [
           {
            "colorbar": {
             "outlinewidth": 0,
             "ticks": ""
            },
            "colorscale": [
             [
              0,
              "#0d0887"
             ],
             [
              0.1111111111111111,
              "#46039f"
             ],
             [
              0.2222222222222222,
              "#7201a8"
             ],
             [
              0.3333333333333333,
              "#9c179e"
             ],
             [
              0.4444444444444444,
              "#bd3786"
             ],
             [
              0.5555555555555556,
              "#d8576b"
             ],
             [
              0.6666666666666666,
              "#ed7953"
             ],
             [
              0.7777777777777778,
              "#fb9f3a"
             ],
             [
              0.8888888888888888,
              "#fdca26"
             ],
             [
              1,
              "#f0f921"
             ]
            ],
            "type": "contour"
           }
          ],
          "contourcarpet": [
           {
            "colorbar": {
             "outlinewidth": 0,
             "ticks": ""
            },
            "type": "contourcarpet"
           }
          ],
          "heatmap": [
           {
            "colorbar": {
             "outlinewidth": 0,
             "ticks": ""
            },
            "colorscale": [
             [
              0,
              "#0d0887"
             ],
             [
              0.1111111111111111,
              "#46039f"
             ],
             [
              0.2222222222222222,
              "#7201a8"
             ],
             [
              0.3333333333333333,
              "#9c179e"
             ],
             [
              0.4444444444444444,
              "#bd3786"
             ],
             [
              0.5555555555555556,
              "#d8576b"
             ],
             [
              0.6666666666666666,
              "#ed7953"
             ],
             [
              0.7777777777777778,
              "#fb9f3a"
             ],
             [
              0.8888888888888888,
              "#fdca26"
             ],
             [
              1,
              "#f0f921"
             ]
            ],
            "type": "heatmap"
           }
          ],
          "heatmapgl": [
           {
            "colorbar": {
             "outlinewidth": 0,
             "ticks": ""
            },
            "colorscale": [
             [
              0,
              "#0d0887"
             ],
             [
              0.1111111111111111,
              "#46039f"
             ],
             [
              0.2222222222222222,
              "#7201a8"
             ],
             [
              0.3333333333333333,
              "#9c179e"
             ],
             [
              0.4444444444444444,
              "#bd3786"
             ],
             [
              0.5555555555555556,
              "#d8576b"
             ],
             [
              0.6666666666666666,
              "#ed7953"
             ],
             [
              0.7777777777777778,
              "#fb9f3a"
             ],
             [
              0.8888888888888888,
              "#fdca26"
             ],
             [
              1,
              "#f0f921"
             ]
            ],
            "type": "heatmapgl"
           }
          ],
          "histogram": [
           {
            "marker": {
             "pattern": {
              "fillmode": "overlay",
              "size": 10,
              "solidity": 0.2
             }
            },
            "type": "histogram"
           }
          ],
          "histogram2d": [
           {
            "colorbar": {
             "outlinewidth": 0,
             "ticks": ""
            },
            "colorscale": [
             [
              0,
              "#0d0887"
             ],
             [
              0.1111111111111111,
              "#46039f"
             ],
             [
              0.2222222222222222,
              "#7201a8"
             ],
             [
              0.3333333333333333,
              "#9c179e"
             ],
             [
              0.4444444444444444,
              "#bd3786"
             ],
             [
              0.5555555555555556,
              "#d8576b"
             ],
             [
              0.6666666666666666,
              "#ed7953"
             ],
             [
              0.7777777777777778,
              "#fb9f3a"
             ],
             [
              0.8888888888888888,
              "#fdca26"
             ],
             [
              1,
              "#f0f921"
             ]
            ],
            "type": "histogram2d"
           }
          ],
          "histogram2dcontour": [
           {
            "colorbar": {
             "outlinewidth": 0,
             "ticks": ""
            },
            "colorscale": [
             [
              0,
              "#0d0887"
             ],
             [
              0.1111111111111111,
              "#46039f"
             ],
             [
              0.2222222222222222,
              "#7201a8"
             ],
             [
              0.3333333333333333,
              "#9c179e"
             ],
             [
              0.4444444444444444,
              "#bd3786"
             ],
             [
              0.5555555555555556,
              "#d8576b"
             ],
             [
              0.6666666666666666,
              "#ed7953"
             ],
             [
              0.7777777777777778,
              "#fb9f3a"
             ],
             [
              0.8888888888888888,
              "#fdca26"
             ],
             [
              1,
              "#f0f921"
             ]
            ],
            "type": "histogram2dcontour"
           }
          ],
          "mesh3d": [
           {
            "colorbar": {
             "outlinewidth": 0,
             "ticks": ""
            },
            "type": "mesh3d"
           }
          ],
          "parcoords": [
           {
            "line": {
             "colorbar": {
              "outlinewidth": 0,
              "ticks": ""
             }
            },
            "type": "parcoords"
           }
          ],
          "pie": [
           {
            "automargin": true,
            "type": "pie"
           }
          ],
          "scatter": [
           {
            "fillpattern": {
             "fillmode": "overlay",
             "size": 10,
             "solidity": 0.2
            },
            "type": "scatter"
           }
          ],
          "scatter3d": [
           {
            "line": {
             "colorbar": {
              "outlinewidth": 0,
              "ticks": ""
             }
            },
            "marker": {
             "colorbar": {
              "outlinewidth": 0,
              "ticks": ""
             }
            },
            "type": "scatter3d"
           }
          ],
          "scattercarpet": [
           {
            "marker": {
             "colorbar": {
              "outlinewidth": 0,
              "ticks": ""
             }
            },
            "type": "scattercarpet"
           }
          ],
          "scattergeo": [
           {
            "marker": {
             "colorbar": {
              "outlinewidth": 0,
              "ticks": ""
             }
            },
            "type": "scattergeo"
           }
          ],
          "scattergl": [
           {
            "marker": {
             "colorbar": {
              "outlinewidth": 0,
              "ticks": ""
             }
            },
            "type": "scattergl"
           }
          ],
          "scattermapbox": [
           {
            "marker": {
             "colorbar": {
              "outlinewidth": 0,
              "ticks": ""
             }
            },
            "type": "scattermapbox"
           }
          ],
          "scatterpolar": [
           {
            "marker": {
             "colorbar": {
              "outlinewidth": 0,
              "ticks": ""
             }
            },
            "type": "scatterpolar"
           }
          ],
          "scatterpolargl": [
           {
            "marker": {
             "colorbar": {
              "outlinewidth": 0,
              "ticks": ""
             }
            },
            "type": "scatterpolargl"
           }
          ],
          "scatterternary": [
           {
            "marker": {
             "colorbar": {
              "outlinewidth": 0,
              "ticks": ""
             }
            },
            "type": "scatterternary"
           }
          ],
          "surface": [
           {
            "colorbar": {
             "outlinewidth": 0,
             "ticks": ""
            },
            "colorscale": [
             [
              0,
              "#0d0887"
             ],
             [
              0.1111111111111111,
              "#46039f"
             ],
             [
              0.2222222222222222,
              "#7201a8"
             ],
             [
              0.3333333333333333,
              "#9c179e"
             ],
             [
              0.4444444444444444,
              "#bd3786"
             ],
             [
              0.5555555555555556,
              "#d8576b"
             ],
             [
              0.6666666666666666,
              "#ed7953"
             ],
             [
              0.7777777777777778,
              "#fb9f3a"
             ],
             [
              0.8888888888888888,
              "#fdca26"
             ],
             [
              1,
              "#f0f921"
             ]
            ],
            "type": "surface"
           }
          ],
          "table": [
           {
            "cells": {
             "fill": {
              "color": "#EBF0F8"
             },
             "line": {
              "color": "white"
             }
            },
            "header": {
             "fill": {
              "color": "#C8D4E3"
             },
             "line": {
              "color": "white"
             }
            },
            "type": "table"
           }
          ]
         },
         "layout": {
          "annotationdefaults": {
           "arrowcolor": "#2a3f5f",
           "arrowhead": 0,
           "arrowwidth": 1
          },
          "autotypenumbers": "strict",
          "coloraxis": {
           "colorbar": {
            "outlinewidth": 0,
            "ticks": ""
           }
          },
          "colorscale": {
           "diverging": [
            [
             0,
             "#8e0152"
            ],
            [
             0.1,
             "#c51b7d"
            ],
            [
             0.2,
             "#de77ae"
            ],
            [
             0.3,
             "#f1b6da"
            ],
            [
             0.4,
             "#fde0ef"
            ],
            [
             0.5,
             "#f7f7f7"
            ],
            [
             0.6,
             "#e6f5d0"
            ],
            [
             0.7,
             "#b8e186"
            ],
            [
             0.8,
             "#7fbc41"
            ],
            [
             0.9,
             "#4d9221"
            ],
            [
             1,
             "#276419"
            ]
           ],
           "sequential": [
            [
             0,
             "#0d0887"
            ],
            [
             0.1111111111111111,
             "#46039f"
            ],
            [
             0.2222222222222222,
             "#7201a8"
            ],
            [
             0.3333333333333333,
             "#9c179e"
            ],
            [
             0.4444444444444444,
             "#bd3786"
            ],
            [
             0.5555555555555556,
             "#d8576b"
            ],
            [
             0.6666666666666666,
             "#ed7953"
            ],
            [
             0.7777777777777778,
             "#fb9f3a"
            ],
            [
             0.8888888888888888,
             "#fdca26"
            ],
            [
             1,
             "#f0f921"
            ]
           ],
           "sequentialminus": [
            [
             0,
             "#0d0887"
            ],
            [
             0.1111111111111111,
             "#46039f"
            ],
            [
             0.2222222222222222,
             "#7201a8"
            ],
            [
             0.3333333333333333,
             "#9c179e"
            ],
            [
             0.4444444444444444,
             "#bd3786"
            ],
            [
             0.5555555555555556,
             "#d8576b"
            ],
            [
             0.6666666666666666,
             "#ed7953"
            ],
            [
             0.7777777777777778,
             "#fb9f3a"
            ],
            [
             0.8888888888888888,
             "#fdca26"
            ],
            [
             1,
             "#f0f921"
            ]
           ]
          },
          "colorway": [
           "#636efa",
           "#EF553B",
           "#00cc96",
           "#ab63fa",
           "#FFA15A",
           "#19d3f3",
           "#FF6692",
           "#B6E880",
           "#FF97FF",
           "#FECB52"
          ],
          "font": {
           "color": "#2a3f5f"
          },
          "geo": {
           "bgcolor": "white",
           "lakecolor": "white",
           "landcolor": "#E5ECF6",
           "showlakes": true,
           "showland": true,
           "subunitcolor": "white"
          },
          "hoverlabel": {
           "align": "left"
          },
          "hovermode": "closest",
          "mapbox": {
           "style": "light"
          },
          "paper_bgcolor": "white",
          "plot_bgcolor": "#E5ECF6",
          "polar": {
           "angularaxis": {
            "gridcolor": "white",
            "linecolor": "white",
            "ticks": ""
           },
           "bgcolor": "#E5ECF6",
           "radialaxis": {
            "gridcolor": "white",
            "linecolor": "white",
            "ticks": ""
           }
          },
          "scene": {
           "xaxis": {
            "backgroundcolor": "#E5ECF6",
            "gridcolor": "white",
            "gridwidth": 2,
            "linecolor": "white",
            "showbackground": true,
            "ticks": "",
            "zerolinecolor": "white"
           },
           "yaxis": {
            "backgroundcolor": "#E5ECF6",
            "gridcolor": "white",
            "gridwidth": 2,
            "linecolor": "white",
            "showbackground": true,
            "ticks": "",
            "zerolinecolor": "white"
           },
           "zaxis": {
            "backgroundcolor": "#E5ECF6",
            "gridcolor": "white",
            "gridwidth": 2,
            "linecolor": "white",
            "showbackground": true,
            "ticks": "",
            "zerolinecolor": "white"
           }
          },
          "shapedefaults": {
           "line": {
            "color": "#2a3f5f"
           }
          },
          "ternary": {
           "aaxis": {
            "gridcolor": "white",
            "linecolor": "white",
            "ticks": ""
           },
           "baxis": {
            "gridcolor": "white",
            "linecolor": "white",
            "ticks": ""
           },
           "bgcolor": "#E5ECF6",
           "caxis": {
            "gridcolor": "white",
            "linecolor": "white",
            "ticks": ""
           }
          },
          "title": {
           "x": 0.05
          },
          "xaxis": {
           "automargin": true,
           "gridcolor": "white",
           "linecolor": "white",
           "ticks": "",
           "title": {
            "standoff": 15
           },
           "zerolinecolor": "white",
           "zerolinewidth": 2
          },
          "yaxis": {
           "automargin": true,
           "gridcolor": "white",
           "linecolor": "white",
           "ticks": "",
           "title": {
            "standoff": 15
           },
           "zerolinecolor": "white",
           "zerolinewidth": 2
          }
         }
        },
        "title": {
         "text": "Each point tells you... for a given hour: how much foot traffic was there and how many items were sold"
        },
        "xaxis": {
         "anchor": "y",
         "domain": [
          0,
          1
         ],
         "title": {
          "text": "Traffic"
         }
        },
        "yaxis": {
         "anchor": "x",
         "domain": [
          0,
          1
         ],
         "title": {
          "text": "Number Items Sold"
         }
        }
       }
      }
     },
     "metadata": {},
     "output_type": "display_data"
    }
   ],
   "source": [
    "# Create the plot using Plotly Express\n",
    "fig = px.line(df_avg_sales, x='Traffic', y='Number Items Sold', title=\"Each point tells you... for a given hour: how much foot traffic was there and how many items were sold\", markers=True)\n",
    "\n",
    "# Show the plot\n",
    "fig.show()"
   ]
  },
  {
   "cell_type": "code",
   "execution_count": 69,
   "metadata": {},
   "outputs": [
    {
     "data": {
      "text/html": [
       "<div>\n",
       "<style scoped>\n",
       "    .dataframe tbody tr th:only-of-type {\n",
       "        vertical-align: middle;\n",
       "    }\n",
       "\n",
       "    .dataframe tbody tr th {\n",
       "        vertical-align: top;\n",
       "    }\n",
       "\n",
       "    .dataframe thead th {\n",
       "        text-align: right;\n",
       "    }\n",
       "</style>\n",
       "<table border=\"1\" class=\"dataframe\">\n",
       "  <thead>\n",
       "    <tr style=\"text-align: right;\">\n",
       "      <th></th>\n",
       "      <th>Date</th>\n",
       "      <th>Time</th>\n",
       "      <th>Item</th>\n",
       "      <th>Qty</th>\n",
       "      <th>Datetime</th>\n",
       "      <th>Hour</th>\n",
       "      <th>Traffic</th>\n",
       "    </tr>\n",
       "  </thead>\n",
       "  <tbody>\n",
       "    <tr>\n",
       "      <th>0</th>\n",
       "      <td>2023-10-28</td>\n",
       "      <td>11:41:41</td>\n",
       "      <td>Drink 2 - Cold Brew - FM</td>\n",
       "      <td>1</td>\n",
       "      <td>2023-10-28 11:41:41</td>\n",
       "      <td>11</td>\n",
       "      <td>432</td>\n",
       "    </tr>\n",
       "    <tr>\n",
       "      <th>1</th>\n",
       "      <td>2023-10-28</td>\n",
       "      <td>11:40:39</td>\n",
       "      <td>Croissant - Pain Au Chocolat - FM</td>\n",
       "      <td>1</td>\n",
       "      <td>2023-10-28 11:40:39</td>\n",
       "      <td>11</td>\n",
       "      <td>432</td>\n",
       "    </tr>\n",
       "    <tr>\n",
       "      <th>2</th>\n",
       "      <td>2023-10-28</td>\n",
       "      <td>11:40:39</td>\n",
       "      <td>Croissant - Pumpkin Croissant - FM</td>\n",
       "      <td>1</td>\n",
       "      <td>2023-10-28 11:40:39</td>\n",
       "      <td>11</td>\n",
       "      <td>432</td>\n",
       "    </tr>\n",
       "    <tr>\n",
       "      <th>3</th>\n",
       "      <td>2023-10-28</td>\n",
       "      <td>11:34:11</td>\n",
       "      <td>Croissant - Pumpkin Croissant - FM</td>\n",
       "      <td>1</td>\n",
       "      <td>2023-10-28 11:34:11</td>\n",
       "      <td>11</td>\n",
       "      <td>432</td>\n",
       "    </tr>\n",
       "    <tr>\n",
       "      <th>4</th>\n",
       "      <td>2023-10-28</td>\n",
       "      <td>11:33:24</td>\n",
       "      <td>Croissant - Pain Au Chocolat - FM</td>\n",
       "      <td>1</td>\n",
       "      <td>2023-10-28 11:33:24</td>\n",
       "      <td>11</td>\n",
       "      <td>432</td>\n",
       "    </tr>\n",
       "    <tr>\n",
       "      <th>...</th>\n",
       "      <td>...</td>\n",
       "      <td>...</td>\n",
       "      <td>...</td>\n",
       "      <td>...</td>\n",
       "      <td>...</td>\n",
       "      <td>...</td>\n",
       "      <td>...</td>\n",
       "    </tr>\n",
       "    <tr>\n",
       "      <th>11844</th>\n",
       "      <td>2024-05-18</td>\n",
       "      <td>07:14:30</td>\n",
       "      <td>Butter Croissant - FM</td>\n",
       "      <td>1</td>\n",
       "      <td>2024-05-18 07:14:30</td>\n",
       "      <td>7</td>\n",
       "      <td>593</td>\n",
       "    </tr>\n",
       "    <tr>\n",
       "      <th>11845</th>\n",
       "      <td>2024-05-18</td>\n",
       "      <td>07:13:11</td>\n",
       "      <td>Kouign Amann - FM</td>\n",
       "      <td>1</td>\n",
       "      <td>2024-05-18 07:13:11</td>\n",
       "      <td>7</td>\n",
       "      <td>593</td>\n",
       "    </tr>\n",
       "    <tr>\n",
       "      <th>11846</th>\n",
       "      <td>2024-05-18</td>\n",
       "      <td>07:10:47</td>\n",
       "      <td>Almond Croissant - FM</td>\n",
       "      <td>1</td>\n",
       "      <td>2024-05-18 07:10:47</td>\n",
       "      <td>7</td>\n",
       "      <td>593</td>\n",
       "    </tr>\n",
       "    <tr>\n",
       "      <th>11847</th>\n",
       "      <td>2024-05-18</td>\n",
       "      <td>07:10:18</td>\n",
       "      <td>Ube &amp; Strawberry Croissant - FM</td>\n",
       "      <td>1</td>\n",
       "      <td>2024-05-18 07:10:18</td>\n",
       "      <td>7</td>\n",
       "      <td>593</td>\n",
       "    </tr>\n",
       "    <tr>\n",
       "      <th>11848</th>\n",
       "      <td>2024-05-18</td>\n",
       "      <td>07:10:18</td>\n",
       "      <td>Pain Aux Raisin - FM</td>\n",
       "      <td>1</td>\n",
       "      <td>2024-05-18 07:10:18</td>\n",
       "      <td>7</td>\n",
       "      <td>593</td>\n",
       "    </tr>\n",
       "  </tbody>\n",
       "</table>\n",
       "<p>11848 rows × 7 columns</p>\n",
       "</div>"
      ],
      "text/plain": [
       "             Date      Time                                Item  Qty  \\\n",
       "0      2023-10-28  11:41:41            Drink 2 - Cold Brew - FM    1   \n",
       "1      2023-10-28  11:40:39   Croissant - Pain Au Chocolat - FM    1   \n",
       "2      2023-10-28  11:40:39  Croissant - Pumpkin Croissant - FM    1   \n",
       "3      2023-10-28  11:34:11  Croissant - Pumpkin Croissant - FM    1   \n",
       "4      2023-10-28  11:33:24   Croissant - Pain Au Chocolat - FM    1   \n",
       "...           ...       ...                                 ...  ...   \n",
       "11844  2024-05-18  07:14:30               Butter Croissant - FM    1   \n",
       "11845  2024-05-18  07:13:11                   Kouign Amann - FM    1   \n",
       "11846  2024-05-18  07:10:47               Almond Croissant - FM    1   \n",
       "11847  2024-05-18  07:10:18     Ube & Strawberry Croissant - FM    1   \n",
       "11848  2024-05-18  07:10:18                Pain Aux Raisin - FM    1   \n",
       "\n",
       "                 Datetime  Hour  Traffic  \n",
       "0     2023-10-28 11:41:41    11      432  \n",
       "1     2023-10-28 11:40:39    11      432  \n",
       "2     2023-10-28 11:40:39    11      432  \n",
       "3     2023-10-28 11:34:11    11      432  \n",
       "4     2023-10-28 11:33:24    11      432  \n",
       "...                   ...   ...      ...  \n",
       "11844 2024-05-18 07:14:30     7      593  \n",
       "11845 2024-05-18 07:13:11     7      593  \n",
       "11846 2024-05-18 07:10:47     7      593  \n",
       "11847 2024-05-18 07:10:18     7      593  \n",
       "11848 2024-05-18 07:10:18     7      593  \n",
       "\n",
       "[11848 rows x 7 columns]"
      ]
     },
     "execution_count": 69,
     "metadata": {},
     "output_type": "execute_result"
    }
   ],
   "source": [
    "combined_dataset"
   ]
  },
  {
   "cell_type": "code",
   "execution_count": 71,
   "metadata": {},
   "outputs": [
    {
     "name": "stdout",
     "output_type": "stream",
     "text": [
      "Mean Absolute Error: 0.83\n"
     ]
    }
   ],
   "source": [
    "import pandas as pd\n",
    "from sklearn.model_selection import train_test_split\n",
    "from sklearn.ensemble import RandomForestRegressor\n",
    "from sklearn.metrics import mean_absolute_error\n",
    "\n",
    "# Prep data\n",
    "combined_dataset['Hour'] = pd.to_datetime(combined_dataset['Datetime'], format='%H:%M:%S', errors='coerce').dt.hour\n",
    "combined_dataset['DayOfWeek'] = combined_dataset['Datetime'].dt.dayofweek\n",
    "combined_dataset['Month'] = combined_dataset['Datetime'].dt.month\n",
    "\n",
    "# Aggregate sales per hour\n",
    "hourly_sales = combined_dataset.groupby(['Datetime', 'Hour', 'Traffic', 'DayOfWeek', 'Month'])['Qty'].sum().reset_index()\n",
    "\n",
    "# Drop missing traffic values\n",
    "hourly_sales = hourly_sales.dropna()\n",
    "\n",
    "# Define features and target\n",
    "X = hourly_sales[['Hour', 'Traffic', 'DayOfWeek', 'Month']]\n",
    "y = hourly_sales['Qty']\n",
    "\n",
    "# Train-test split\n",
    "X_train, X_test, y_train, y_test = train_test_split(X, y, test_size=0.2, random_state=42)\n",
    "\n",
    "# Train model\n",
    "model = RandomForestRegressor(n_estimators=100, random_state=42)\n",
    "model.fit(X_train, y_train)\n",
    "\n",
    "# Predict and evaluate\n",
    "y_pred = model.predict(X_test)\n",
    "mae = mean_absolute_error(y_test, y_pred)\n",
    "\n",
    "print(f\"Mean Absolute Error: {mae:.2f}\")"
   ]
  },
  {
   "cell_type": "code",
   "execution_count": 73,
   "metadata": {},
   "outputs": [
    {
     "name": "stdout",
     "output_type": "stream",
     "text": [
      "1.75742509485804\n",
      "0.4712712014765343\n"
     ]
    }
   ],
   "source": [
    "print(y.mean())  # average actual sales\n",
    "print(mae / y.mean())  # relative error\n"
   ]
  },
  {
   "cell_type": "code",
   "execution_count": null,
   "metadata": {},
   "outputs": [],
   "source": []
  }
 ],
 "metadata": {
  "kernelspec": {
   "display_name": "Python 3",
   "language": "python",
   "name": "python3"
  },
  "language_info": {
   "codemirror_mode": {
    "name": "ipython",
    "version": 3
   },
   "file_extension": ".py",
   "mimetype": "text/x-python",
   "name": "python",
   "nbconvert_exporter": "python",
   "pygments_lexer": "ipython3",
   "version": "3.10.1"
  }
 },
 "nbformat": 4,
 "nbformat_minor": 2
}
